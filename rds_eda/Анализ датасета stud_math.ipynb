{
 "cells": [
  {
   "cell_type": "markdown",
   "metadata": {},
   "source": [
    "## Цели проекта"
   ]
  },
  {
   "cell_type": "markdown",
   "metadata": {},
   "source": [
    "Предлагается поучаствовать в одном из проектов UNICEF — международного подразделения ООН, чья миссия состоит в повышении уровня благополучия детей по всему миру.\n",
    "\n",
    "**Цель проекта** — отследить влияние условий жизни учащихся в возрасте от 15 до 22 лет на их успеваемость по математике, чтобы на ранней стадии выявлять студентов, находящихся в группе риска.\n",
    "\n",
    "**Задачи проекта**:\n",
    "- Провести анализ данных\n",
    "- Выявить наиболее значимые признаки для построения модели\n",
    "- Дополнительно: построить модель для предсказания результатов госэкзамена по математике для каждого ученика школы\n",
    "- Дополнительно: провести оценку полученной модели"
   ]
  },
  {
   "cell_type": "markdown",
   "metadata": {},
   "source": [
    "## Импорт необходимых библиотек"
   ]
  },
  {
   "cell_type": "code",
   "execution_count": 2037,
   "metadata": {},
   "outputs": [],
   "source": [
    "import pandas as pd\n",
    "import matplotlib.pyplot as plt\n",
    "import seaborn as sns\n",
    "from itertools import combinations\n",
    "from scipy.stats import ttest_ind\n",
    "\n",
    "import warnings\n",
    "warnings.filterwarnings('ignore')"
   ]
  },
  {
   "cell_type": "markdown",
   "metadata": {},
   "source": [
    "## Импорт и изучение датасета"
   ]
  },
  {
   "cell_type": "markdown",
   "metadata": {},
   "source": [
    "В датасете представлены следующие данные:\n",
    "\n",
    "- school — аббревиатура школы, в которой учится ученик\n",
    "- sex — пол ученика ('F' - женский, 'M' - мужской)\n",
    "- age — возраст ученика (от 15 до 22)\n",
    "- address — тип адреса ученика ('U' - городской, 'R' - за городом)\n",
    "- famsize — размер семьи('LE3' <= 3, 'GT3' >3)\n",
    "- Pstatus — статус совместного жилья родителей ('T' - живут вместе 'A' - раздельно)\n",
    "- Medu — образование матери (0 - нет, 1 - 4 класса, 2 - 5-9 классы, 3 - среднее специальное или 11 классов, 4 - высшее)\n",
    "- Fedu — образование отца (0 - нет, 1 - 4 класса, 2 - 5-9 классы, 3 - среднее специальное или 11 классов, 4 - высшее)\n",
    "- Mjob — работа матери ('teacher' - учитель, 'health' - сфера здравоохранения, 'services' - гос служба, 'at_home' - не работает, 'other' - другое)\n",
    "- Fjob — работа отца ('teacher' - учитель, 'health' - сфера здравоохранения, 'services' - гос служба, 'at_home' - не работает, 'other' - другое)\n",
    "- reason — причина выбора школы ('home' - близость к дому, 'reputation' - репутация школы, 'course' - образовательная программа, 'other' - другое)\n",
    "- guardian — опекун ('mother' - мать, 'father' - отец, 'other' - другое)\n",
    "- traveltime — время в пути до школы (1 - <15 мин., 2 - 15-30 мин., 3 - 30-60 мин., 4 - >60 мин.)\n",
    "- studytime — время на учёбу помимо школы в неделю (1 - <2 часов, 2 - 2-5 часов, 3 - 5-10 часов, 4 - >10 часов)\n",
    "- failures — количество внеучебных неудач (n, если 1<=n<3, иначе 0)\n",
    "- schoolsup — дополнительная образовательная поддержка (yes или no)\n",
    "- famsup — семейная образовательная поддержка (yes или no)\n",
    "- paid — дополнительные платные занятия по математике (yes или no)\n",
    "- activities — дополнительные внеучебные занятия (yes или no)\n",
    "- nursery — посещал детский сад (yes или no)\n",
    "- higher — хочет получить высшее образование (yes или no)\n",
    "- internet — наличие интернета дома (yes или no)\n",
    "- romantic — в романтических отношениях (yes или no)\n",
    "- famrel — семейные отношения (от 1 - очень плохо до 5 - очень хорошо)\n",
    "- freetime — свободное время после школы (от 1 - очень мало до 5 - очень мого)\n",
    "- goout — проведение времени с друзьями (от 1 - очень мало до 5 - очень много)\n",
    "- health — текущее состояние здоровья (от 1 - очень плохо до 5 - очень хорошо)\n",
    "- absences — количество пропущенных занятий\n",
    "- score — баллы по госэкзамену по математике\n",
    "- studytime, granular - загадочный 30й столбец, из соображений логики наверняка как-то связанный со studytime"
   ]
  },
  {
   "cell_type": "code",
   "execution_count": 2038,
   "metadata": {
    "scrolled": true
   },
   "outputs": [
    {
     "name": "stdout",
     "output_type": "stream",
     "text": [
      "<class 'pandas.core.frame.DataFrame'>\n",
      "RangeIndex: 395 entries, 0 to 394\n",
      "Data columns (total 30 columns):\n",
      "school                 395 non-null object\n",
      "sex                    395 non-null object\n",
      "age                    395 non-null int64\n",
      "address                378 non-null object\n",
      "famsize                368 non-null object\n",
      "Pstatus                350 non-null object\n",
      "Medu                   392 non-null float64\n",
      "Fedu                   371 non-null float64\n",
      "Mjob                   376 non-null object\n",
      "Fjob                   359 non-null object\n",
      "reason                 378 non-null object\n",
      "guardian               364 non-null object\n",
      "traveltime             367 non-null float64\n",
      "studytime              388 non-null float64\n",
      "failures               373 non-null float64\n",
      "schoolsup              386 non-null object\n",
      "famsup                 356 non-null object\n",
      "paid                   355 non-null object\n",
      "activities             381 non-null object\n",
      "nursery                379 non-null object\n",
      "studytime, granular    388 non-null float64\n",
      "higher                 375 non-null object\n",
      "internet               361 non-null object\n",
      "romantic               364 non-null object\n",
      "famrel                 368 non-null float64\n",
      "freetime               384 non-null float64\n",
      "goout                  387 non-null float64\n",
      "health                 380 non-null float64\n",
      "absences               383 non-null float64\n",
      "score                  389 non-null float64\n",
      "dtypes: float64(12), int64(1), object(17)\n",
      "memory usage: 92.7+ KB\n"
     ]
    }
   ],
   "source": [
    "pd.set_option('display.max_rows', 50)\n",
    "pd.set_option('display.max_columns', 50)\n",
    "\n",
    "df = pd.read_csv('stud_math.csv')\n",
    "df.info()"
   ]
  },
  {
   "cell_type": "markdown",
   "metadata": {},
   "source": [
    "У нас есть 30 колонок данных, score - целевая переменная. Среди признаков, судя по описанию датасета, у нас есть следующие виды признаков:\n",
    "- бинарные **(school, sex, address, famsize, Pstatus, schoolsup, famsup, paid, activities, nursery, higher, internet, romantic)**\n",
    "- категориальные (номинативные): **Mjob,Fjob,reason,guardian**\n",
    "- категориальные (порядковые): **Medu, Fedu, studytime, failures, traveltime, famrel, freetime, goout, health**\n",
    "- вещественные (числовые): **age, absences**\n",
    "\n",
    "Также есть признак **studytime,granular**, смысл которого предстоит понять в процессе анализа.\n",
    "\n",
    "Для начала посмотрим на число пропусков в каждом признаке."
   ]
  },
  {
   "cell_type": "code",
   "execution_count": 2039,
   "metadata": {},
   "outputs": [
    {
     "data": {
      "text/plain": [
       "Pstatus                45\n",
       "paid                   40\n",
       "famsup                 39\n",
       "Fjob                   36\n",
       "internet               34\n",
       "romantic               31\n",
       "guardian               31\n",
       "traveltime             28\n",
       "famsize                27\n",
       "famrel                 27\n",
       "Fedu                   24\n",
       "failures               22\n",
       "higher                 20\n",
       "Mjob                   19\n",
       "reason                 17\n",
       "address                17\n",
       "nursery                16\n",
       "health                 15\n",
       "activities             14\n",
       "absences               12\n",
       "freetime               11\n",
       "schoolsup               9\n",
       "goout                   8\n",
       "studytime               7\n",
       "studytime, granular     7\n",
       "score                   6\n",
       "Medu                    3\n",
       "age                     0\n",
       "sex                     0\n",
       "school                  0\n",
       "dtype: int64"
      ]
     },
     "execution_count": 2039,
     "metadata": {},
     "output_type": "execute_result"
    }
   ],
   "source": [
    "df.isna().sum().sort_values(ascending = False)"
   ]
  },
  {
   "cell_type": "markdown",
   "metadata": {},
   "source": [
    "Наибольшее количество пропусков у нас в признаке Pstatus, около 11% строк. Это не так много, ситуация с пропусками выглядит нормально. Как можно заполнить пропуски? Различными статистическими методами или, например, методом k ближайших соседей, но он требует достаточного количеста объектов без пропусков. Посмотрим, сколько строк у нас не содержат пропусков."
   ]
  },
  {
   "cell_type": "code",
   "execution_count": 2040,
   "metadata": {},
   "outputs": [
    {
     "data": {
      "text/plain": [
       "(97, 30)"
      ]
     },
     "execution_count": 2040,
     "metadata": {},
     "output_type": "execute_result"
    }
   ],
   "source": [
    "df.dropna(how = 'any').shape"
   ]
  },
  {
   "cell_type": "markdown",
   "metadata": {},
   "source": [
    "К сожалению, только 97 строк полностью заполнены, это меньше, чем 25% данных. В различных источниках говорится, что при большом количестве пропусков в объектах метод ближайших соседей работает недостаточно хорошо, поэтому будем заполнять пропуски медианой для числовых признаков и модой для номинативных. Попробуем посмотреть на данные более подробно."
   ]
  },
  {
   "cell_type": "code",
   "execution_count": 2041,
   "metadata": {
    "scrolled": true
   },
   "outputs": [
    {
     "data": {
      "text/html": [
       "<div>\n",
       "<style scoped>\n",
       "    .dataframe tbody tr th:only-of-type {\n",
       "        vertical-align: middle;\n",
       "    }\n",
       "\n",
       "    .dataframe tbody tr th {\n",
       "        vertical-align: top;\n",
       "    }\n",
       "\n",
       "    .dataframe thead th {\n",
       "        text-align: right;\n",
       "    }\n",
       "</style>\n",
       "<table border=\"1\" class=\"dataframe\">\n",
       "  <thead>\n",
       "    <tr style=\"text-align: right;\">\n",
       "      <th></th>\n",
       "      <th>school</th>\n",
       "      <th>sex</th>\n",
       "      <th>age</th>\n",
       "      <th>address</th>\n",
       "      <th>famsize</th>\n",
       "      <th>Pstatus</th>\n",
       "      <th>Medu</th>\n",
       "      <th>Fedu</th>\n",
       "      <th>Mjob</th>\n",
       "      <th>Fjob</th>\n",
       "      <th>reason</th>\n",
       "      <th>guardian</th>\n",
       "      <th>traveltime</th>\n",
       "      <th>studytime</th>\n",
       "      <th>failures</th>\n",
       "      <th>schoolsup</th>\n",
       "      <th>famsup</th>\n",
       "      <th>paid</th>\n",
       "      <th>activities</th>\n",
       "      <th>nursery</th>\n",
       "      <th>studytime, granular</th>\n",
       "      <th>higher</th>\n",
       "      <th>internet</th>\n",
       "      <th>romantic</th>\n",
       "      <th>famrel</th>\n",
       "      <th>freetime</th>\n",
       "      <th>goout</th>\n",
       "      <th>health</th>\n",
       "      <th>absences</th>\n",
       "      <th>score</th>\n",
       "    </tr>\n",
       "  </thead>\n",
       "  <tbody>\n",
       "    <tr>\n",
       "      <td>0</td>\n",
       "      <td>GP</td>\n",
       "      <td>F</td>\n",
       "      <td>18</td>\n",
       "      <td>U</td>\n",
       "      <td>NaN</td>\n",
       "      <td>A</td>\n",
       "      <td>4.0</td>\n",
       "      <td>4.0</td>\n",
       "      <td>at_home</td>\n",
       "      <td>teacher</td>\n",
       "      <td>course</td>\n",
       "      <td>mother</td>\n",
       "      <td>2.0</td>\n",
       "      <td>2.0</td>\n",
       "      <td>0.0</td>\n",
       "      <td>yes</td>\n",
       "      <td>no</td>\n",
       "      <td>no</td>\n",
       "      <td>no</td>\n",
       "      <td>yes</td>\n",
       "      <td>-6.0</td>\n",
       "      <td>yes</td>\n",
       "      <td>NaN</td>\n",
       "      <td>no</td>\n",
       "      <td>4.0</td>\n",
       "      <td>3.0</td>\n",
       "      <td>4.0</td>\n",
       "      <td>3.0</td>\n",
       "      <td>6.0</td>\n",
       "      <td>30.0</td>\n",
       "    </tr>\n",
       "    <tr>\n",
       "      <td>1</td>\n",
       "      <td>GP</td>\n",
       "      <td>F</td>\n",
       "      <td>17</td>\n",
       "      <td>U</td>\n",
       "      <td>GT3</td>\n",
       "      <td>NaN</td>\n",
       "      <td>1.0</td>\n",
       "      <td>1.0</td>\n",
       "      <td>at_home</td>\n",
       "      <td>other</td>\n",
       "      <td>course</td>\n",
       "      <td>father</td>\n",
       "      <td>1.0</td>\n",
       "      <td>2.0</td>\n",
       "      <td>0.0</td>\n",
       "      <td>no</td>\n",
       "      <td>yes</td>\n",
       "      <td>no</td>\n",
       "      <td>no</td>\n",
       "      <td>no</td>\n",
       "      <td>-6.0</td>\n",
       "      <td>yes</td>\n",
       "      <td>yes</td>\n",
       "      <td>no</td>\n",
       "      <td>5.0</td>\n",
       "      <td>3.0</td>\n",
       "      <td>3.0</td>\n",
       "      <td>3.0</td>\n",
       "      <td>4.0</td>\n",
       "      <td>30.0</td>\n",
       "    </tr>\n",
       "    <tr>\n",
       "      <td>2</td>\n",
       "      <td>GP</td>\n",
       "      <td>F</td>\n",
       "      <td>15</td>\n",
       "      <td>U</td>\n",
       "      <td>LE3</td>\n",
       "      <td>T</td>\n",
       "      <td>1.0</td>\n",
       "      <td>1.0</td>\n",
       "      <td>at_home</td>\n",
       "      <td>other</td>\n",
       "      <td>other</td>\n",
       "      <td>mother</td>\n",
       "      <td>1.0</td>\n",
       "      <td>2.0</td>\n",
       "      <td>3.0</td>\n",
       "      <td>yes</td>\n",
       "      <td>no</td>\n",
       "      <td>NaN</td>\n",
       "      <td>no</td>\n",
       "      <td>yes</td>\n",
       "      <td>-6.0</td>\n",
       "      <td>yes</td>\n",
       "      <td>yes</td>\n",
       "      <td>NaN</td>\n",
       "      <td>4.0</td>\n",
       "      <td>3.0</td>\n",
       "      <td>2.0</td>\n",
       "      <td>3.0</td>\n",
       "      <td>10.0</td>\n",
       "      <td>50.0</td>\n",
       "    </tr>\n",
       "    <tr>\n",
       "      <td>3</td>\n",
       "      <td>GP</td>\n",
       "      <td>F</td>\n",
       "      <td>15</td>\n",
       "      <td>U</td>\n",
       "      <td>GT3</td>\n",
       "      <td>T</td>\n",
       "      <td>4.0</td>\n",
       "      <td>2.0</td>\n",
       "      <td>health</td>\n",
       "      <td>NaN</td>\n",
       "      <td>home</td>\n",
       "      <td>mother</td>\n",
       "      <td>1.0</td>\n",
       "      <td>3.0</td>\n",
       "      <td>0.0</td>\n",
       "      <td>no</td>\n",
       "      <td>yes</td>\n",
       "      <td>yes</td>\n",
       "      <td>yes</td>\n",
       "      <td>yes</td>\n",
       "      <td>-9.0</td>\n",
       "      <td>yes</td>\n",
       "      <td>yes</td>\n",
       "      <td>yes</td>\n",
       "      <td>3.0</td>\n",
       "      <td>2.0</td>\n",
       "      <td>2.0</td>\n",
       "      <td>5.0</td>\n",
       "      <td>2.0</td>\n",
       "      <td>75.0</td>\n",
       "    </tr>\n",
       "    <tr>\n",
       "      <td>4</td>\n",
       "      <td>GP</td>\n",
       "      <td>F</td>\n",
       "      <td>16</td>\n",
       "      <td>U</td>\n",
       "      <td>GT3</td>\n",
       "      <td>T</td>\n",
       "      <td>3.0</td>\n",
       "      <td>3.0</td>\n",
       "      <td>other</td>\n",
       "      <td>other</td>\n",
       "      <td>home</td>\n",
       "      <td>father</td>\n",
       "      <td>1.0</td>\n",
       "      <td>2.0</td>\n",
       "      <td>0.0</td>\n",
       "      <td>no</td>\n",
       "      <td>yes</td>\n",
       "      <td>yes</td>\n",
       "      <td>no</td>\n",
       "      <td>yes</td>\n",
       "      <td>-6.0</td>\n",
       "      <td>yes</td>\n",
       "      <td>no</td>\n",
       "      <td>no</td>\n",
       "      <td>4.0</td>\n",
       "      <td>3.0</td>\n",
       "      <td>2.0</td>\n",
       "      <td>5.0</td>\n",
       "      <td>4.0</td>\n",
       "      <td>50.0</td>\n",
       "    </tr>\n",
       "  </tbody>\n",
       "</table>\n",
       "</div>"
      ],
      "text/plain": [
       "  school sex  age address famsize Pstatus  Medu  Fedu     Mjob     Fjob  \\\n",
       "0     GP   F   18       U     NaN       A   4.0   4.0  at_home  teacher   \n",
       "1     GP   F   17       U     GT3     NaN   1.0   1.0  at_home    other   \n",
       "2     GP   F   15       U     LE3       T   1.0   1.0  at_home    other   \n",
       "3     GP   F   15       U     GT3       T   4.0   2.0   health      NaN   \n",
       "4     GP   F   16       U     GT3       T   3.0   3.0    other    other   \n",
       "\n",
       "   reason guardian  traveltime  studytime  failures schoolsup famsup paid  \\\n",
       "0  course   mother         2.0        2.0       0.0       yes     no   no   \n",
       "1  course   father         1.0        2.0       0.0        no    yes   no   \n",
       "2   other   mother         1.0        2.0       3.0       yes     no  NaN   \n",
       "3    home   mother         1.0        3.0       0.0        no    yes  yes   \n",
       "4    home   father         1.0        2.0       0.0        no    yes  yes   \n",
       "\n",
       "  activities nursery  studytime, granular higher internet romantic  famrel  \\\n",
       "0         no     yes                 -6.0    yes      NaN       no     4.0   \n",
       "1         no      no                 -6.0    yes      yes       no     5.0   \n",
       "2         no     yes                 -6.0    yes      yes      NaN     4.0   \n",
       "3        yes     yes                 -9.0    yes      yes      yes     3.0   \n",
       "4         no     yes                 -6.0    yes       no       no     4.0   \n",
       "\n",
       "   freetime  goout  health  absences  score  \n",
       "0       3.0    4.0     3.0       6.0   30.0  \n",
       "1       3.0    3.0     3.0       4.0   30.0  \n",
       "2       3.0    2.0     3.0      10.0   50.0  \n",
       "3       2.0    2.0     5.0       2.0   75.0  \n",
       "4       3.0    2.0     5.0       4.0   50.0  "
      ]
     },
     "execution_count": 2041,
     "metadata": {},
     "output_type": "execute_result"
    }
   ],
   "source": [
    "df.head()"
   ]
  },
  {
   "cell_type": "markdown",
   "metadata": {},
   "source": [
    "Сразу посмотрим на значения целевой переменной и количество пропусков."
   ]
  },
  {
   "cell_type": "code",
   "execution_count": 2042,
   "metadata": {
    "scrolled": true
   },
   "outputs": [
    {
     "data": {
      "text/plain": [
       "50.0     54\n",
       "55.0     46\n",
       "0.0      37\n",
       "75.0     33\n",
       "65.0     31\n",
       "40.0     31\n",
       "60.0     31\n",
       "45.0     27\n",
       "70.0     27\n",
       "80.0     16\n",
       "30.0     15\n",
       "90.0     12\n",
       "35.0      9\n",
       "25.0      7\n",
       "NaN       6\n",
       "85.0      6\n",
       "95.0      5\n",
       "100.0     1\n",
       "20.0      1\n",
       "Name: score, dtype: int64"
      ]
     },
     "execution_count": 2042,
     "metadata": {},
     "output_type": "execute_result"
    }
   ],
   "source": [
    "df.score.value_counts(dropna = False)"
   ]
  },
  {
   "cell_type": "markdown",
   "metadata": {},
   "source": [
    "У нас всего 6 пропусков в целевой переменной, удалим эти строки."
   ]
  },
  {
   "cell_type": "code",
   "execution_count": 2043,
   "metadata": {},
   "outputs": [],
   "source": [
    "df = df.dropna(subset = ['score'])"
   ]
  },
  {
   "cell_type": "markdown",
   "metadata": {},
   "source": [
    "## Обработка бинарных признаков"
   ]
  },
  {
   "cell_type": "markdown",
   "metadata": {},
   "source": [
    "Заменим в столбцах, где всего 2 возможных значения, значения на 1 и 0. Для этого напишем функцию и применим к нужным признакам.\n",
    "- в признаках schoolsup, famsup, paid, activities, nursery, higher, internet, romantic: yes заменим на 1, no - на 0\n",
    "- в school: GP заменим на 1, MS - на 0\n",
    "- в sex: заменим F на 1, M - на 0\n",
    "- в address: заменим U на 1, R - на 0\n",
    "- в famsize: заменим GT3 на 1, LE3 на 0\n",
    "- в Pstatus: заменим T на 1, A на 0"
   ]
  },
  {
   "cell_type": "code",
   "execution_count": 2044,
   "metadata": {},
   "outputs": [],
   "source": [
    "binary_columns = ['school','sex','address','famsize','schoolsup','famsup','paid','activities',\n",
    "                  'Pstatus','nursery','higher','internet','romantic']\n",
    "\n",
    "one_values = ['yes','GP','F','U','GT3','T']\n",
    "zero_values = ['no','MS','M','R','LE3','A']\n",
    "\n",
    "def convert_to_binary(value):\n",
    "    if value in one_values:\n",
    "        return 1\n",
    "    elif value in zero_values:\n",
    "        return 0\n",
    "    else: \n",
    "        return value\n",
    "\n",
    "# функция для нахождения значимых различий для признака по тесту Стьюдента\n",
    "def get_stat_dif(column):\n",
    "    cols = df.loc[:, column].value_counts().index[:10]\n",
    "    combinations_all = list(combinations(cols, 2))\n",
    "    for comb in combinations_all:\n",
    "        if ttest_ind(df.loc[df.loc[:, column] == comb[0], 'score'], \n",
    "                        df.loc[df.loc[:, column] == comb[1], 'score']).pvalue \\\n",
    "            <= 0.05/len(combinations_all): # Учли поправку Бонферони\n",
    "            print('Найдены статистически значимые различия для колонки', column)\n",
    "            break\n",
    "\n",
    "# функция отрисовки боксплота для конкретной колонки\n",
    "def get_boxplot(column):\n",
    "    fig, ax = plt.subplots(figsize = (14, 4))\n",
    "    sns.boxplot(x=column, y='score', \n",
    "                data=df.loc[df.loc[:, column].isin(df.loc[:, column].value_counts().index[:10])],\n",
    "               ax=ax)\n",
    "    plt.xticks(rotation=45)\n",
    "    ax.set_title('Boxplot for ' + column)\n",
    "    plt.show()"
   ]
  },
  {
   "cell_type": "code",
   "execution_count": 2045,
   "metadata": {},
   "outputs": [],
   "source": [
    "for col in binary_columns:\n",
    "    df[col] = df[col].apply(convert_to_binary)"
   ]
  },
  {
   "cell_type": "markdown",
   "metadata": {},
   "source": [
    "Теперь заполним все пропуски медианным значением и посмотрим на распределение значений признаков."
   ]
  },
  {
   "cell_type": "code",
   "execution_count": 2046,
   "metadata": {},
   "outputs": [],
   "source": [
    "for col in binary_columns:\n",
    "    median = df[col].median()\n",
    "    df[col] =df[col].apply(lambda x: x if x == x else median)"
   ]
  },
  {
   "cell_type": "code",
   "execution_count": 2047,
   "metadata": {},
   "outputs": [
    {
     "data": {
      "text/html": [
       "<div>\n",
       "<style scoped>\n",
       "    .dataframe tbody tr th:only-of-type {\n",
       "        vertical-align: middle;\n",
       "    }\n",
       "\n",
       "    .dataframe tbody tr th {\n",
       "        vertical-align: top;\n",
       "    }\n",
       "\n",
       "    .dataframe thead th {\n",
       "        text-align: right;\n",
       "    }\n",
       "</style>\n",
       "<table border=\"1\" class=\"dataframe\">\n",
       "  <thead>\n",
       "    <tr style=\"text-align: right;\">\n",
       "      <th></th>\n",
       "      <th>school</th>\n",
       "      <th>sex</th>\n",
       "      <th>age</th>\n",
       "      <th>address</th>\n",
       "      <th>famsize</th>\n",
       "      <th>Pstatus</th>\n",
       "      <th>Medu</th>\n",
       "      <th>Fedu</th>\n",
       "      <th>Mjob</th>\n",
       "      <th>Fjob</th>\n",
       "      <th>reason</th>\n",
       "      <th>guardian</th>\n",
       "      <th>traveltime</th>\n",
       "      <th>studytime</th>\n",
       "      <th>failures</th>\n",
       "      <th>schoolsup</th>\n",
       "      <th>famsup</th>\n",
       "      <th>paid</th>\n",
       "      <th>activities</th>\n",
       "      <th>nursery</th>\n",
       "      <th>studytime, granular</th>\n",
       "      <th>higher</th>\n",
       "      <th>internet</th>\n",
       "      <th>romantic</th>\n",
       "      <th>famrel</th>\n",
       "      <th>freetime</th>\n",
       "      <th>goout</th>\n",
       "      <th>health</th>\n",
       "      <th>absences</th>\n",
       "      <th>score</th>\n",
       "    </tr>\n",
       "  </thead>\n",
       "  <tbody>\n",
       "    <tr>\n",
       "      <td>0</td>\n",
       "      <td>1</td>\n",
       "      <td>1</td>\n",
       "      <td>18</td>\n",
       "      <td>1.0</td>\n",
       "      <td>1.0</td>\n",
       "      <td>0.0</td>\n",
       "      <td>4.0</td>\n",
       "      <td>4.0</td>\n",
       "      <td>at_home</td>\n",
       "      <td>teacher</td>\n",
       "      <td>course</td>\n",
       "      <td>mother</td>\n",
       "      <td>2.0</td>\n",
       "      <td>2.0</td>\n",
       "      <td>0.0</td>\n",
       "      <td>1.0</td>\n",
       "      <td>0.0</td>\n",
       "      <td>0.0</td>\n",
       "      <td>0.0</td>\n",
       "      <td>1.0</td>\n",
       "      <td>-6.0</td>\n",
       "      <td>1.0</td>\n",
       "      <td>1.0</td>\n",
       "      <td>0.0</td>\n",
       "      <td>4.0</td>\n",
       "      <td>3.0</td>\n",
       "      <td>4.0</td>\n",
       "      <td>3.0</td>\n",
       "      <td>6.0</td>\n",
       "      <td>30.0</td>\n",
       "    </tr>\n",
       "    <tr>\n",
       "      <td>1</td>\n",
       "      <td>1</td>\n",
       "      <td>1</td>\n",
       "      <td>17</td>\n",
       "      <td>1.0</td>\n",
       "      <td>1.0</td>\n",
       "      <td>1.0</td>\n",
       "      <td>1.0</td>\n",
       "      <td>1.0</td>\n",
       "      <td>at_home</td>\n",
       "      <td>other</td>\n",
       "      <td>course</td>\n",
       "      <td>father</td>\n",
       "      <td>1.0</td>\n",
       "      <td>2.0</td>\n",
       "      <td>0.0</td>\n",
       "      <td>0.0</td>\n",
       "      <td>1.0</td>\n",
       "      <td>0.0</td>\n",
       "      <td>0.0</td>\n",
       "      <td>0.0</td>\n",
       "      <td>-6.0</td>\n",
       "      <td>1.0</td>\n",
       "      <td>1.0</td>\n",
       "      <td>0.0</td>\n",
       "      <td>5.0</td>\n",
       "      <td>3.0</td>\n",
       "      <td>3.0</td>\n",
       "      <td>3.0</td>\n",
       "      <td>4.0</td>\n",
       "      <td>30.0</td>\n",
       "    </tr>\n",
       "    <tr>\n",
       "      <td>2</td>\n",
       "      <td>1</td>\n",
       "      <td>1</td>\n",
       "      <td>15</td>\n",
       "      <td>1.0</td>\n",
       "      <td>0.0</td>\n",
       "      <td>1.0</td>\n",
       "      <td>1.0</td>\n",
       "      <td>1.0</td>\n",
       "      <td>at_home</td>\n",
       "      <td>other</td>\n",
       "      <td>other</td>\n",
       "      <td>mother</td>\n",
       "      <td>1.0</td>\n",
       "      <td>2.0</td>\n",
       "      <td>3.0</td>\n",
       "      <td>1.0</td>\n",
       "      <td>0.0</td>\n",
       "      <td>0.0</td>\n",
       "      <td>0.0</td>\n",
       "      <td>1.0</td>\n",
       "      <td>-6.0</td>\n",
       "      <td>1.0</td>\n",
       "      <td>1.0</td>\n",
       "      <td>0.0</td>\n",
       "      <td>4.0</td>\n",
       "      <td>3.0</td>\n",
       "      <td>2.0</td>\n",
       "      <td>3.0</td>\n",
       "      <td>10.0</td>\n",
       "      <td>50.0</td>\n",
       "    </tr>\n",
       "    <tr>\n",
       "      <td>3</td>\n",
       "      <td>1</td>\n",
       "      <td>1</td>\n",
       "      <td>15</td>\n",
       "      <td>1.0</td>\n",
       "      <td>1.0</td>\n",
       "      <td>1.0</td>\n",
       "      <td>4.0</td>\n",
       "      <td>2.0</td>\n",
       "      <td>health</td>\n",
       "      <td>NaN</td>\n",
       "      <td>home</td>\n",
       "      <td>mother</td>\n",
       "      <td>1.0</td>\n",
       "      <td>3.0</td>\n",
       "      <td>0.0</td>\n",
       "      <td>0.0</td>\n",
       "      <td>1.0</td>\n",
       "      <td>1.0</td>\n",
       "      <td>1.0</td>\n",
       "      <td>1.0</td>\n",
       "      <td>-9.0</td>\n",
       "      <td>1.0</td>\n",
       "      <td>1.0</td>\n",
       "      <td>1.0</td>\n",
       "      <td>3.0</td>\n",
       "      <td>2.0</td>\n",
       "      <td>2.0</td>\n",
       "      <td>5.0</td>\n",
       "      <td>2.0</td>\n",
       "      <td>75.0</td>\n",
       "    </tr>\n",
       "    <tr>\n",
       "      <td>4</td>\n",
       "      <td>1</td>\n",
       "      <td>1</td>\n",
       "      <td>16</td>\n",
       "      <td>1.0</td>\n",
       "      <td>1.0</td>\n",
       "      <td>1.0</td>\n",
       "      <td>3.0</td>\n",
       "      <td>3.0</td>\n",
       "      <td>other</td>\n",
       "      <td>other</td>\n",
       "      <td>home</td>\n",
       "      <td>father</td>\n",
       "      <td>1.0</td>\n",
       "      <td>2.0</td>\n",
       "      <td>0.0</td>\n",
       "      <td>0.0</td>\n",
       "      <td>1.0</td>\n",
       "      <td>1.0</td>\n",
       "      <td>0.0</td>\n",
       "      <td>1.0</td>\n",
       "      <td>-6.0</td>\n",
       "      <td>1.0</td>\n",
       "      <td>0.0</td>\n",
       "      <td>0.0</td>\n",
       "      <td>4.0</td>\n",
       "      <td>3.0</td>\n",
       "      <td>2.0</td>\n",
       "      <td>5.0</td>\n",
       "      <td>4.0</td>\n",
       "      <td>50.0</td>\n",
       "    </tr>\n",
       "  </tbody>\n",
       "</table>\n",
       "</div>"
      ],
      "text/plain": [
       "   school  sex  age  address  famsize  Pstatus  Medu  Fedu     Mjob     Fjob  \\\n",
       "0       1    1   18      1.0      1.0      0.0   4.0   4.0  at_home  teacher   \n",
       "1       1    1   17      1.0      1.0      1.0   1.0   1.0  at_home    other   \n",
       "2       1    1   15      1.0      0.0      1.0   1.0   1.0  at_home    other   \n",
       "3       1    1   15      1.0      1.0      1.0   4.0   2.0   health      NaN   \n",
       "4       1    1   16      1.0      1.0      1.0   3.0   3.0    other    other   \n",
       "\n",
       "   reason guardian  traveltime  studytime  failures  schoolsup  famsup  paid  \\\n",
       "0  course   mother         2.0        2.0       0.0        1.0     0.0   0.0   \n",
       "1  course   father         1.0        2.0       0.0        0.0     1.0   0.0   \n",
       "2   other   mother         1.0        2.0       3.0        1.0     0.0   0.0   \n",
       "3    home   mother         1.0        3.0       0.0        0.0     1.0   1.0   \n",
       "4    home   father         1.0        2.0       0.0        0.0     1.0   1.0   \n",
       "\n",
       "   activities  nursery  studytime, granular  higher  internet  romantic  \\\n",
       "0         0.0      1.0                 -6.0     1.0       1.0       0.0   \n",
       "1         0.0      0.0                 -6.0     1.0       1.0       0.0   \n",
       "2         0.0      1.0                 -6.0     1.0       1.0       0.0   \n",
       "3         1.0      1.0                 -9.0     1.0       1.0       1.0   \n",
       "4         0.0      1.0                 -6.0     1.0       0.0       0.0   \n",
       "\n",
       "   famrel  freetime  goout  health  absences  score  \n",
       "0     4.0       3.0    4.0     3.0       6.0   30.0  \n",
       "1     5.0       3.0    3.0     3.0       4.0   30.0  \n",
       "2     4.0       3.0    2.0     3.0      10.0   50.0  \n",
       "3     3.0       2.0    2.0     5.0       2.0   75.0  \n",
       "4     4.0       3.0    2.0     5.0       4.0   50.0  "
      ]
     },
     "execution_count": 2047,
     "metadata": {},
     "output_type": "execute_result"
    }
   ],
   "source": [
    "df.head()"
   ]
  },
  {
   "cell_type": "code",
   "execution_count": 2048,
   "metadata": {},
   "outputs": [
    {
     "data": {
      "text/plain": [
       "array([[<matplotlib.axes._subplots.AxesSubplot object at 0x000001EDA749F948>,\n",
       "        <matplotlib.axes._subplots.AxesSubplot object at 0x000001EDA7477D88>],\n",
       "       [<matplotlib.axes._subplots.AxesSubplot object at 0x000001EDA74344C8>,\n",
       "        <matplotlib.axes._subplots.AxesSubplot object at 0x000001EDA731A808>],\n",
       "       [<matplotlib.axes._subplots.AxesSubplot object at 0x000001EDA7315B08>,\n",
       "        <matplotlib.axes._subplots.AxesSubplot object at 0x000001EDA55B0448>],\n",
       "       [<matplotlib.axes._subplots.AxesSubplot object at 0x000001EDA559B6C8>,\n",
       "        <matplotlib.axes._subplots.AxesSubplot object at 0x000001EDA5512BC8>],\n",
       "       [<matplotlib.axes._subplots.AxesSubplot object at 0x000001EDA5546B88>,\n",
       "        <matplotlib.axes._subplots.AxesSubplot object at 0x000001EDA54D7D88>],\n",
       "       [<matplotlib.axes._subplots.AxesSubplot object at 0x000001EDA53C9B08>,\n",
       "        <matplotlib.axes._subplots.AxesSubplot object at 0x000001EDA4BEB648>],\n",
       "       [<matplotlib.axes._subplots.AxesSubplot object at 0x000001EDA51D7F48>,\n",
       "        <matplotlib.axes._subplots.AxesSubplot object at 0x000001EDA4819AC8>]],\n",
       "      dtype=object)"
      ]
     },
     "execution_count": 2048,
     "metadata": {},
     "output_type": "execute_result"
    },
    {
     "data": {
      "image/png": "[encoded data removed]",
      "text/plain": [
       "<Figure size 1440x3600 with 14 Axes>"
      ]
     },
     "metadata": {
      "needs_background": "light"
     },
     "output_type": "display_data"
    }
   ],
   "source": [
    "df[binary_columns].hist(layout = (7,2),figsize = (20,50),bins = 3)"
   ]
  },
  {
   "cell_type": "markdown",
   "metadata": {},
   "source": [
    "Из распределений видно, что почти во всех бинарных столбцах (кроме activities, paid, sex) наблюдается очень сильный перекос в данных. Посмотрим на значимость признаков чуть позже, после анализа всех признаков."
   ]
  },
  {
   "cell_type": "markdown",
   "metadata": {},
   "source": [
    "## Обработка номинативных категориальных признаков"
   ]
  },
  {
   "cell_type": "markdown",
   "metadata": {},
   "source": [
    "Номинативных категориальных признака у нас всего 4 - Mjob,Fjob,reason,guardian. Для каждого из них посмотрим на данные, заполним пропуски модой, после чего посмотрим на распределение значений с помощью боксплота. Чуть позже в качестве теста на значимость признака применим тест Стьюдента."
   ]
  },
  {
   "cell_type": "code",
   "execution_count": 2049,
   "metadata": {},
   "outputs": [
    {
     "data": {
      "text/plain": [
       "other       127\n",
       "services     98\n",
       "at_home      58\n",
       "teacher      55\n",
       "health       32\n",
       "NaN          19\n",
       "Name: Mjob, dtype: int64"
      ]
     },
     "metadata": {},
     "output_type": "display_data"
    },
    {
     "data": {
      "text/plain": [
       "other       194\n",
       "services     99\n",
       "NaN          36\n",
       "teacher      29\n",
       "at_home      16\n",
       "health       15\n",
       "Name: Fjob, dtype: int64"
      ]
     },
     "metadata": {},
     "output_type": "display_data"
    },
    {
     "data": {
      "text/plain": [
       "course        135\n",
       "reputation    102\n",
       "home          101\n",
       "other          34\n",
       "NaN            17\n",
       "Name: reason, dtype: int64"
      ]
     },
     "metadata": {},
     "output_type": "display_data"
    },
    {
     "data": {
      "text/plain": [
       "mother    248\n",
       "father     86\n",
       "NaN        31\n",
       "other      24\n",
       "Name: guardian, dtype: int64"
      ]
     },
     "metadata": {},
     "output_type": "display_data"
    }
   ],
   "source": [
    "nominative_columns = ['Mjob','Fjob','reason','guardian']\n",
    "\n",
    "for col in nominative_columns:\n",
    "    display(df[col].value_counts(dropna = False))"
   ]
  },
  {
   "cell_type": "markdown",
   "metadata": {},
   "source": [
    "Пропусков в наших данных не так много, но и самих данных не так много, так что заменим все пропуски на моду признака и посмотрим на боксплоты."
   ]
  },
  {
   "cell_type": "code",
   "execution_count": 2050,
   "metadata": {},
   "outputs": [],
   "source": [
    "for col in nominative_columns:\n",
    "    mode = df[col].mode()[0]\n",
    "    df[col] = df[col].apply(lambda x: x if x == x else mode)"
   ]
  },
  {
   "cell_type": "code",
   "execution_count": 2051,
   "metadata": {},
   "outputs": [
    {
     "data": {
      "image/png": "[encoded data removed]",
      "text/plain": [
       "<Figure size 1008x288 with 1 Axes>"
      ]
     },
     "metadata": {
      "needs_background": "light"
     },
     "output_type": "display_data"
    },
    {
     "data": {
      "image/png": "[encoded data removed]",
      "text/plain": [
       "<Figure size 1008x288 with 1 Axes>"
      ]
     },
     "metadata": {
      "needs_background": "light"
     },
     "output_type": "display_data"
    },
    {
     "data": {
      "image/png": "[encoded data removed]",
      "text/plain": [
       "<Figure size 1008x288 with 1 Axes>"
      ]
     },
     "metadata": {
      "needs_background": "light"
     },
     "output_type": "display_data"
    },
    {
     "data": {
      "image/png": "[encoded data removed]",
      "text/plain": [
       "<Figure size 1008x288 with 1 Axes>"
      ]
     },
     "metadata": {
      "needs_background": "light"
     },
     "output_type": "display_data"
    }
   ],
   "source": [
    "for col in nominative_columns:\n",
    "    get_boxplot(col)"
   ]
  },
  {
   "cell_type": "markdown",
   "metadata": {},
   "source": [
    "На первый взгляд, какую-то значимость имеют признаки Mjob и Fjob. Также чуть позже проверим признаки по тесту Стьюдента."
   ]
  },
  {
   "cell_type": "markdown",
   "metadata": {},
   "source": [
    "## Обработка вещественных (числовых) признаков"
   ]
  },
  {
   "cell_type": "markdown",
   "metadata": {},
   "source": [
    "У нас всего 2 вещественных признака - age, absences, а также целевая переменная score. Посмотрим поподробнее на их данные."
   ]
  },
  {
   "cell_type": "markdown",
   "metadata": {},
   "source": [
    "### Столбец age"
   ]
  },
  {
   "cell_type": "markdown",
   "metadata": {},
   "source": [
    "Описание: возраст ученика (от 15 до 22)."
   ]
  },
  {
   "cell_type": "code",
   "execution_count": 2052,
   "metadata": {},
   "outputs": [
    {
     "data": {
      "text/plain": [
       "16    103\n",
       "17     98\n",
       "15     82\n",
       "18     80\n",
       "19     21\n",
       "20      3\n",
       "22      1\n",
       "21      1\n",
       "Name: age, dtype: int64"
      ]
     },
     "execution_count": 2052,
     "metadata": {},
     "output_type": "execute_result"
    }
   ],
   "source": [
    "n_age = len(df.age.value_counts(dropna = False)) # число столбцов для гистограммы распределения\n",
    "df.age.value_counts()"
   ]
  },
  {
   "cell_type": "markdown",
   "metadata": {},
   "source": [
    "В данном столбце нет пропусков, посмотрим на его распределение."
   ]
  },
  {
   "cell_type": "code",
   "execution_count": 2053,
   "metadata": {
    "scrolled": true
   },
   "outputs": [
    {
     "data": {
      "text/plain": [
       "count    389.000000\n",
       "mean      16.673522\n",
       "std        1.265662\n",
       "min       15.000000\n",
       "25%       16.000000\n",
       "50%       17.000000\n",
       "75%       18.000000\n",
       "max       22.000000\n",
       "Name: age, dtype: float64"
      ]
     },
     "execution_count": 2053,
     "metadata": {},
     "output_type": "execute_result"
    },
    {
     "data": {
      "image/png": "[encoded data removed]",
      "text/plain": [
       "<Figure size 432x288 with 1 Axes>"
      ]
     },
     "metadata": {
      "needs_background": "light"
     },
     "output_type": "display_data"
    }
   ],
   "source": [
    "df.age.hist(bins = n_age)\n",
    "df.age.describe()"
   ]
  },
  {
   "cell_type": "markdown",
   "metadata": {},
   "source": [
    "Видно, что основная масса значений сгруппирована около 16-17 лет, меньше всего значений от 20 и более лет. Распределение похоже на нормальное со смещением. Проверим столбец на выбросы."
   ]
  },
  {
   "cell_type": "code",
   "execution_count": 2054,
   "metadata": {},
   "outputs": [
    {
     "name": "stdout",
     "output_type": "stream",
     "text": [
      "25-й перцентиль: 16.0, 75-й перцентиль: 18.0, IQR: 2.0,  Границы выбросов: [13.0, 21.0].\n"
     ]
    },
    {
     "data": {
      "image/png": "[encoded data removed]",
      "text/plain": [
       "<Figure size 432x288 with 1 Axes>"
      ]
     },
     "metadata": {
      "needs_background": "light"
     },
     "output_type": "display_data"
    }
   ],
   "source": [
    "def check_for_outliers(column,bins_number):    \n",
    "    median = df[column].median()\n",
    "    IQR = df[column].quantile(0.75) - df[column].quantile(0.25)\n",
    "    perc25 = df[column].quantile(0.25)\n",
    "    perc75 = df[column].quantile(0.75)\n",
    "    print('25-й перцентиль: {},'.format(perc25), '75-й перцентиль: {},'.format(perc75)\n",
    "          , \"IQR: {}, \".format(IQR),\"Границы выбросов: [{f}, {l}].\".format(f=perc25 - 1.5*IQR, l=perc75 + 1.5*IQR))\n",
    "    df[column].loc[df[column].between(perc25 - 1.5*IQR, perc75 + 1.5*IQR)].hist(bins = bins_number,label = 'IQR')\n",
    "    plt.legend();\n",
    "\n",
    "check_for_outliers('age',n_age - 1)"
   ]
  },
  {
   "cell_type": "markdown",
   "metadata": {},
   "source": [
    "Судя по формуле, единственное значение 22 в данных столбца - это выброс. Но если мы его отфильтруем, то совсем не учтем учеников в возрасте 22 лет, тем более, что 22 - входит в область определения из описания признака. В таком случае оставим это значение."
   ]
  },
  {
   "cell_type": "markdown",
   "metadata": {},
   "source": [
    "### Столбец absences"
   ]
  },
  {
   "cell_type": "markdown",
   "metadata": {},
   "source": [
    "Описание: количество пропущенных занятий. Посмотрим на наши данные."
   ]
  },
  {
   "cell_type": "code",
   "execution_count": 2055,
   "metadata": {},
   "outputs": [
    {
     "data": {
      "text/plain": [
       "0.0      110\n",
       "2.0       60\n",
       "4.0       52\n",
       "6.0       30\n",
       "8.0       20\n",
       "10.0      17\n",
       "12.0      12\n",
       "14.0      12\n",
       "NaN       11\n",
       "16.0       7\n",
       "3.0        7\n",
       "7.0        6\n",
       "5.0        5\n",
       "18.0       5\n",
       "20.0       4\n",
       "1.0        3\n",
       "22.0       3\n",
       "9.0        3\n",
       "13.0       2\n",
       "15.0       2\n",
       "11.0       2\n",
       "25.0       1\n",
       "54.0       1\n",
       "385.0      1\n",
       "26.0       1\n",
       "56.0       1\n",
       "24.0       1\n",
       "212.0      1\n",
       "21.0       1\n",
       "75.0       1\n",
       "30.0       1\n",
       "19.0       1\n",
       "38.0       1\n",
       "40.0       1\n",
       "23.0       1\n",
       "17.0       1\n",
       "28.0       1\n",
       "Name: absences, dtype: int64"
      ]
     },
     "execution_count": 2055,
     "metadata": {},
     "output_type": "execute_result"
    }
   ],
   "source": [
    "df.absences.value_counts(dropna = False)"
   ]
  },
  {
   "cell_type": "markdown",
   "metadata": {},
   "source": [
    "Невооруженным взглядом видно, что у нас есть выбросы, посмотрим на распределение данных. В данных есть **12 пропусков**, которые мы заполним медианным значением."
   ]
  },
  {
   "cell_type": "code",
   "execution_count": 2056,
   "metadata": {},
   "outputs": [],
   "source": [
    "median = df.absences.median()\n",
    "df.absences = df.absences.apply(lambda x: x if x == x else median)"
   ]
  },
  {
   "cell_type": "code",
   "execution_count": 2057,
   "metadata": {},
   "outputs": [
    {
     "name": "stdout",
     "output_type": "stream",
     "text": [
      "25-й перцентиль: 0.0, 75-й перцентиль: 8.0, IQR: 8.0,  Границы выбросов: [-12.0, 20.0].\n"
     ]
    },
    {
     "data": {
      "image/png": "[encoded data removed]",
      "text/plain": [
       "<Figure size 432x288 with 1 Axes>"
      ]
     },
     "metadata": {
      "needs_background": "light"
     },
     "output_type": "display_data"
    }
   ],
   "source": [
    "check_for_outliers('absences',10)"
   ]
  },
  {
   "cell_type": "markdown",
   "metadata": {},
   "source": [
    "Видно, что по формуле интерквартильного расстояния выбросами считаются все значения, превышающие 20. Но довольно много значений, не считая явных выбросов, которые выглядят вполне приемлемо, так что вместо формулы воспользуемся здравым смыслом. Отфильтруем данные и оставим те, где значение absences в пределах 50."
   ]
  },
  {
   "cell_type": "code",
   "execution_count": 2058,
   "metadata": {},
   "outputs": [],
   "source": [
    "df = df[df.absences < 50]"
   ]
  },
  {
   "cell_type": "markdown",
   "metadata": {},
   "source": [
    "### Целевая переменная score"
   ]
  },
  {
   "cell_type": "markdown",
   "metadata": {},
   "source": [
    "Описание: баллы по госэкзамену по математике. Посмотрим на распределение данных."
   ]
  },
  {
   "cell_type": "code",
   "execution_count": 2059,
   "metadata": {},
   "outputs": [
    {
     "data": {
      "text/plain": [
       "<matplotlib.axes._subplots.AxesSubplot at 0x1eda85b9f08>"
      ]
     },
     "execution_count": 2059,
     "metadata": {},
     "output_type": "execute_result"
    },
    {
     "data": {
      "image/png": "[encoded data removed]",
      "text/plain": [
       "<Figure size 432x288 with 1 Axes>"
      ]
     },
     "metadata": {
      "needs_background": "light"
     },
     "output_type": "display_data"
    }
   ],
   "source": [
    "df.score.hist()"
   ]
  },
  {
   "cell_type": "code",
   "execution_count": 2060,
   "metadata": {},
   "outputs": [
    {
     "name": "stdout",
     "output_type": "stream",
     "text": [
      "25-й перцентиль: 40.0, 75-й перцентиль: 70.0, IQR: 30.0,  Границы выбросов: [-5.0, 115.0].\n"
     ]
    },
    {
     "data": {
      "image/png": "[encoded data removed]",
      "text/plain": [
       "<Figure size 432x288 with 1 Axes>"
      ]
     },
     "metadata": {
      "needs_background": "light"
     },
     "output_type": "display_data"
    }
   ],
   "source": [
    "check_for_outliers('score',10)"
   ]
  },
  {
   "cell_type": "markdown",
   "metadata": {},
   "source": [
    "Выбросов у нас нет, пропуски мы убрали в самом начале. Распределение похоже на нормальное."
   ]
  },
  {
   "cell_type": "markdown",
   "metadata": {},
   "source": [
    "## Обработка упорядоченных категориальных признаков"
   ]
  },
  {
   "cell_type": "markdown",
   "metadata": {},
   "source": [
    "Наконец, обработаем упорядоченные категориальные признаки. Их всего 9 - Medu, Fedu, studytime, failures, traveltime, famrel, freetime, goout, health."
   ]
  },
  {
   "cell_type": "markdown",
   "metadata": {},
   "source": [
    "### Столбец Medu"
   ]
  },
  {
   "cell_type": "markdown",
   "metadata": {},
   "source": [
    "Описание: образование матери (0 - нет, 1 - 4 класса, 2 - 5-9 классы, 3 - среднее специальное или 11 классов, 4 - высшее)."
   ]
  },
  {
   "cell_type": "code",
   "execution_count": 2061,
   "metadata": {
    "scrolled": true
   },
   "outputs": [
    {
     "data": {
      "text/plain": [
       "4.0    131\n",
       "2.0     98\n",
       "3.0     93\n",
       "1.0     56\n",
       "0.0      3\n",
       "NaN      3\n",
       "Name: Medu, dtype: int64"
      ]
     },
     "execution_count": 2061,
     "metadata": {},
     "output_type": "execute_result"
    }
   ],
   "source": [
    "n_medu = df.Medu.nunique()\n",
    "df.Medu.value_counts(dropna = False)"
   ]
  },
  {
   "cell_type": "markdown",
   "metadata": {},
   "source": [
    "У нас всего **3 пропуска**. Прежде чем заполнить, посмотрим на распределение."
   ]
  },
  {
   "cell_type": "code",
   "execution_count": 2062,
   "metadata": {},
   "outputs": [
    {
     "data": {
      "text/plain": [
       "<matplotlib.axes._subplots.AxesSubplot at 0x1eda2084608>"
      ]
     },
     "execution_count": 2062,
     "metadata": {},
     "output_type": "execute_result"
    },
    {
     "data": {
      "image/png": "[encoded data removed]",
      "text/plain": [
       "<Figure size 432x288 with 1 Axes>"
      ]
     },
     "metadata": {
      "needs_background": "light"
     },
     "output_type": "display_data"
    }
   ],
   "source": [
    "df.Medu.hist(bins = n_medu)"
   ]
  },
  {
   "cell_type": "markdown",
   "metadata": {},
   "source": [
    "Заметен тренд на возрастание - больше всего в данных матерей с высшим образованием. Выбросов, противоречащих логике и области определения, нет. Заполним пропуски медианным значением."
   ]
  },
  {
   "cell_type": "code",
   "execution_count": 2063,
   "metadata": {},
   "outputs": [],
   "source": [
    "def fill_na_with_median(column):\n",
    "    median = df[column].median()\n",
    "    df[column] = df[column].apply(lambda x: x if x == x else median)\n",
    "    display(df[column].value_counts(dropna = False))"
   ]
  },
  {
   "cell_type": "code",
   "execution_count": 2064,
   "metadata": {},
   "outputs": [
    {
     "data": {
      "text/plain": [
       "4.0    131\n",
       "2.0     98\n",
       "3.0     96\n",
       "1.0     56\n",
       "0.0      3\n",
       "Name: Medu, dtype: int64"
      ]
     },
     "metadata": {},
     "output_type": "display_data"
    }
   ],
   "source": [
    "fill_na_with_median('Medu')"
   ]
  },
  {
   "cell_type": "markdown",
   "metadata": {},
   "source": [
    "### Столбец Fedu"
   ]
  },
  {
   "cell_type": "markdown",
   "metadata": {},
   "source": [
    "Описание: образование отца (0 - нет, 1 - 4 класса, 2 - 5-9 классы, 3 - среднее специальное или 11 классов, 4 - высшее). Аналогичную обработку применим и для признака Fedu."
   ]
  },
  {
   "cell_type": "code",
   "execution_count": 2065,
   "metadata": {
    "scrolled": false
   },
   "outputs": [
    {
     "data": {
      "text/plain": [
       "2.0     103\n",
       "3.0      91\n",
       "4.0      88\n",
       "1.0      75\n",
       "NaN      24\n",
       "0.0       2\n",
       "40.0      1\n",
       "Name: Fedu, dtype: int64"
      ]
     },
     "execution_count": 2065,
     "metadata": {},
     "output_type": "execute_result"
    }
   ],
   "source": [
    "n_fedu = df.Fedu.nunique()\n",
    "df.Fedu.value_counts(dropna = False)"
   ]
  },
  {
   "cell_type": "markdown",
   "metadata": {},
   "source": [
    "В данных **24 пропуска**. Заполним пропуски медианой."
   ]
  },
  {
   "cell_type": "code",
   "execution_count": 2066,
   "metadata": {
    "scrolled": true
   },
   "outputs": [
    {
     "data": {
      "text/plain": [
       "<matplotlib.axes._subplots.AxesSubplot at 0x1eda42fe848>"
      ]
     },
     "execution_count": 2066,
     "metadata": {},
     "output_type": "execute_result"
    },
    {
     "data": {
      "image/png": "[encoded data removed]",
      "text/plain": [
       "<Figure size 432x288 with 1 Axes>"
      ]
     },
     "metadata": {
      "needs_background": "light"
     },
     "output_type": "display_data"
    }
   ],
   "source": [
    "df.Fedu.hist()"
   ]
  },
  {
   "cell_type": "code",
   "execution_count": 2067,
   "metadata": {},
   "outputs": [
    {
     "data": {
      "text/plain": [
       "2.0     103\n",
       "3.0      91\n",
       "4.0      88\n",
       "1.0      75\n",
       "2.5      24\n",
       "0.0       2\n",
       "40.0      1\n",
       "Name: Fedu, dtype: int64"
      ]
     },
     "metadata": {},
     "output_type": "display_data"
    }
   ],
   "source": [
    "fill_na_with_median('Fedu')"
   ]
  },
  {
   "cell_type": "code",
   "execution_count": 2068,
   "metadata": {
    "scrolled": true
   },
   "outputs": [
    {
     "name": "stdout",
     "output_type": "stream",
     "text": [
      "25-й перцентиль: 2.0, 75-й перцентиль: 3.0, IQR: 1.0,  Границы выбросов: [0.5, 4.5].\n"
     ]
    },
    {
     "data": {
      "image/png": "[encoded data removed]",
      "text/plain": [
       "<Figure size 432x288 with 1 Axes>"
      ]
     },
     "metadata": {
      "needs_background": "light"
     },
     "output_type": "display_data"
    }
   ],
   "source": [
    "check_for_outliers('Fedu',n_fedu - 2)"
   ]
  },
  {
   "cell_type": "markdown",
   "metadata": {},
   "source": [
    "Из соображений логики лучше оставить значение 0, так как иначе мы совсем не учтем отцов, не имеющих образования, но есть явный выброс - значение 40. Скорее всего, это ошибка при заполнении и скорее всего, правильное значение 4, но точно знать мы не можем, поэтому отфильтруем датасет без этого выброса."
   ]
  },
  {
   "cell_type": "code",
   "execution_count": 2069,
   "metadata": {},
   "outputs": [],
   "source": [
    "df = df.loc[df.Fedu <= 4.0]"
   ]
  },
  {
   "cell_type": "markdown",
   "metadata": {},
   "source": [
    "### Столбец traveltime"
   ]
  },
  {
   "cell_type": "markdown",
   "metadata": {},
   "source": [
    "Описание: время в пути до школы (1 - <15 мин., 2 - 15-30 мин., 3 - 30-60 мин., 4 - >60 мин.)."
   ]
  },
  {
   "cell_type": "code",
   "execution_count": 2070,
   "metadata": {},
   "outputs": [
    {
     "data": {
      "text/plain": [
       "1.0    235\n",
       "2.0     93\n",
       "NaN     28\n",
       "3.0     20\n",
       "4.0      7\n",
       "Name: traveltime, dtype: int64"
      ]
     },
     "execution_count": 2070,
     "metadata": {},
     "output_type": "execute_result"
    }
   ],
   "source": [
    "df.traveltime.value_counts(dropna = False)"
   ]
  },
  {
   "cell_type": "markdown",
   "metadata": {},
   "source": [
    "Выбросов, противоречащих логике и здравому смыслу, нет. Заполним пропуски медианой (**28 пропусков**)."
   ]
  },
  {
   "cell_type": "code",
   "execution_count": 2071,
   "metadata": {
    "scrolled": true
   },
   "outputs": [
    {
     "data": {
      "text/plain": [
       "1.0    263\n",
       "2.0     93\n",
       "3.0     20\n",
       "4.0      7\n",
       "Name: traveltime, dtype: int64"
      ]
     },
     "metadata": {},
     "output_type": "display_data"
    }
   ],
   "source": [
    "fill_na_with_median('traveltime')"
   ]
  },
  {
   "cell_type": "code",
   "execution_count": 2072,
   "metadata": {},
   "outputs": [
    {
     "data": {
      "text/plain": [
       "<matplotlib.axes._subplots.AxesSubplot at 0x1eda85f28c8>"
      ]
     },
     "execution_count": 2072,
     "metadata": {},
     "output_type": "execute_result"
    },
    {
     "data": {
      "image/png": "[encoded data removed]",
      "text/plain": [
       "<Figure size 432x288 with 1 Axes>"
      ]
     },
     "metadata": {
      "needs_background": "light"
     },
     "output_type": "display_data"
    }
   ],
   "source": [
    "df.traveltime.hist(bins = 4)"
   ]
  },
  {
   "cell_type": "markdown",
   "metadata": {},
   "source": [
    "В основной своей массе ученикам недалеко добираться до школы."
   ]
  },
  {
   "cell_type": "markdown",
   "metadata": {},
   "source": [
    "### Столбец studytime"
   ]
  },
  {
   "cell_type": "markdown",
   "metadata": {},
   "source": [
    "Описание: время на учёбу помимо школы в неделю (1 - <2 часов, 2 - 2-5 часов, 3 - 5-10 часов, 4 - >10 часов). Посмотрим на сами данные."
   ]
  },
  {
   "cell_type": "code",
   "execution_count": 2073,
   "metadata": {},
   "outputs": [
    {
     "data": {
      "text/plain": [
       "2.0    184\n",
       "1.0    103\n",
       "3.0     62\n",
       "4.0     27\n",
       "NaN      7\n",
       "Name: studytime, dtype: int64"
      ]
     },
     "execution_count": 2073,
     "metadata": {},
     "output_type": "execute_result"
    }
   ],
   "source": [
    "df.studytime.value_counts(dropna = False)"
   ]
  },
  {
   "cell_type": "code",
   "execution_count": 2074,
   "metadata": {},
   "outputs": [
    {
     "data": {
      "text/plain": [
       "<matplotlib.axes._subplots.AxesSubplot at 0x1eda861f9c8>"
      ]
     },
     "execution_count": 2074,
     "metadata": {},
     "output_type": "execute_result"
    },
    {
     "data": {
      "image/png": "[encoded data removed]",
      "text/plain": [
       "<Figure size 432x288 with 1 Axes>"
      ]
     },
     "metadata": {
      "needs_background": "light"
     },
     "output_type": "display_data"
    }
   ],
   "source": [
    "df.studytime.hist(bins = 4)"
   ]
  },
  {
   "cell_type": "markdown",
   "metadata": {},
   "source": [
    "Пропусков **всего 7**, выбросов, противоречащих логике - нет, распределение похоже на нормальное. Заполним пропуски медианой."
   ]
  },
  {
   "cell_type": "code",
   "execution_count": 2075,
   "metadata": {},
   "outputs": [
    {
     "data": {
      "text/plain": [
       "2.0    191\n",
       "1.0    103\n",
       "3.0     62\n",
       "4.0     27\n",
       "Name: studytime, dtype: int64"
      ]
     },
     "metadata": {},
     "output_type": "display_data"
    }
   ],
   "source": [
    "fill_na_with_median('studytime')"
   ]
  },
  {
   "cell_type": "markdown",
   "metadata": {},
   "source": [
    "### Столбец famrel"
   ]
  },
  {
   "cell_type": "markdown",
   "metadata": {},
   "source": [
    "Описание: семейные отношения (от 1 - очень плохо до 5 - очень хорошо). Посмотрим на данные."
   ]
  },
  {
   "cell_type": "code",
   "execution_count": 2076,
   "metadata": {},
   "outputs": [
    {
     "data": {
      "text/plain": [
       " 4.0    177\n",
       " 5.0     94\n",
       " 3.0     62\n",
       " NaN     26\n",
       " 2.0     16\n",
       " 1.0      7\n",
       "-1.0      1\n",
       "Name: famrel, dtype: int64"
      ]
     },
     "execution_count": 2076,
     "metadata": {},
     "output_type": "execute_result"
    }
   ],
   "source": [
    "df.famrel.value_counts(dropna = False)"
   ]
  },
  {
   "cell_type": "code",
   "execution_count": 2077,
   "metadata": {},
   "outputs": [
    {
     "data": {
      "text/plain": [
       "<matplotlib.axes._subplots.AxesSubplot at 0x1eda86f6108>"
      ]
     },
     "execution_count": 2077,
     "metadata": {},
     "output_type": "execute_result"
    },
    {
     "data": {
      "image/png": "[encoded data removed]",
      "text/plain": [
       "<Figure size 432x288 with 1 Axes>"
      ]
     },
     "metadata": {
      "needs_background": "light"
     },
     "output_type": "display_data"
    }
   ],
   "source": [
    "df.famrel.hist()"
   ]
  },
  {
   "cell_type": "markdown",
   "metadata": {},
   "source": [
    "В данных есть **27 пропусков**, которые можно заполнить медианным значением. Но в данных есть явный выброс - некорректное значение \"-1\". Избавимся от него."
   ]
  },
  {
   "cell_type": "code",
   "execution_count": 2078,
   "metadata": {},
   "outputs": [
    {
     "data": {
      "text/plain": [
       "4.0    203\n",
       "5.0     94\n",
       "3.0     62\n",
       "2.0     16\n",
       "1.0      7\n",
       "Name: famrel, dtype: int64"
      ]
     },
     "metadata": {},
     "output_type": "display_data"
    }
   ],
   "source": [
    "df = df[(df.famrel > 0) | (df.famrel != df.famrel)] #убираем выброс \"-1\"\n",
    "fill_na_with_median('famrel')"
   ]
  },
  {
   "cell_type": "markdown",
   "metadata": {},
   "source": [
    "В основной массе отношения в семьях учеников хорошие или отличные."
   ]
  },
  {
   "cell_type": "markdown",
   "metadata": {},
   "source": [
    "### Столбец freetime"
   ]
  },
  {
   "cell_type": "markdown",
   "metadata": {},
   "source": [
    "Описание: свободное время после школы (от 1 - очень мало до 5 - очень много). Посмотрим на сами данные."
   ]
  },
  {
   "cell_type": "code",
   "execution_count": 2079,
   "metadata": {},
   "outputs": [
    {
     "data": {
      "text/plain": [
       "3.0    150\n",
       "4.0    110\n",
       "2.0     61\n",
       "5.0     36\n",
       "1.0     17\n",
       "NaN      8\n",
       "Name: freetime, dtype: int64"
      ]
     },
     "execution_count": 2079,
     "metadata": {},
     "output_type": "execute_result"
    }
   ],
   "source": [
    "df.freetime.value_counts(dropna = False)"
   ]
  },
  {
   "cell_type": "markdown",
   "metadata": {},
   "source": [
    "В данных нет выбросов, противоречащих логике и здравому смыслу. Заполним **пропуски (11)** медианой и посмотрим на распределение."
   ]
  },
  {
   "cell_type": "code",
   "execution_count": 2080,
   "metadata": {
    "scrolled": true
   },
   "outputs": [
    {
     "data": {
      "text/plain": [
       "3.0    158\n",
       "4.0    110\n",
       "2.0     61\n",
       "5.0     36\n",
       "1.0     17\n",
       "Name: freetime, dtype: int64"
      ]
     },
     "metadata": {},
     "output_type": "display_data"
    }
   ],
   "source": [
    "fill_na_with_median('freetime')"
   ]
  },
  {
   "cell_type": "code",
   "execution_count": 2081,
   "metadata": {},
   "outputs": [
    {
     "data": {
      "text/plain": [
       "<matplotlib.axes._subplots.AxesSubplot at 0x1eda8760e48>"
      ]
     },
     "execution_count": 2081,
     "metadata": {},
     "output_type": "execute_result"
    },
    {
     "data": {
      "image/png": "[encoded data removed]",
      "text/plain": [
       "<Figure size 432x288 with 1 Axes>"
      ]
     },
     "metadata": {
      "needs_background": "light"
     },
     "output_type": "display_data"
    }
   ],
   "source": [
    "df.freetime.hist(bins = 5)"
   ]
  },
  {
   "cell_type": "markdown",
   "metadata": {},
   "source": [
    "Распределение похоже на нормальное, выбросов нет."
   ]
  },
  {
   "cell_type": "markdown",
   "metadata": {},
   "source": [
    "### Столбец goout"
   ]
  },
  {
   "cell_type": "markdown",
   "metadata": {},
   "source": [
    "Описание: проведение времени с друзьями (от 1 - очень мало до 5 - очень много). Посмотрим на данные."
   ]
  },
  {
   "cell_type": "code",
   "execution_count": 2082,
   "metadata": {},
   "outputs": [
    {
     "data": {
      "text/plain": [
       "3.0    124\n",
       "2.0     99\n",
       "4.0     80\n",
       "5.0     51\n",
       "1.0     21\n",
       "NaN      7\n",
       "Name: goout, dtype: int64"
      ]
     },
     "execution_count": 2082,
     "metadata": {},
     "output_type": "execute_result"
    }
   ],
   "source": [
    "df.goout.value_counts(dropna = False)"
   ]
  },
  {
   "cell_type": "code",
   "execution_count": 2083,
   "metadata": {
    "scrolled": true
   },
   "outputs": [
    {
     "data": {
      "text/plain": [
       "<matplotlib.axes._subplots.AxesSubplot at 0x1eda87a1648>"
      ]
     },
     "execution_count": 2083,
     "metadata": {},
     "output_type": "execute_result"
    },
    {
     "data": {
      "image/png": "[encoded data removed]",
      "text/plain": [
       "<Figure size 432x288 with 1 Axes>"
      ]
     },
     "metadata": {
      "needs_background": "light"
     },
     "output_type": "display_data"
    }
   ],
   "source": [
    "df.goout.hist(bins = 5)"
   ]
  },
  {
   "cell_type": "markdown",
   "metadata": {},
   "source": [
    "Распределение похоже на нормальное, выбросов нет. Заполним пропуски (**8 штук**) медианой."
   ]
  },
  {
   "cell_type": "code",
   "execution_count": 2084,
   "metadata": {},
   "outputs": [
    {
     "data": {
      "text/plain": [
       "3.0    131\n",
       "2.0     99\n",
       "4.0     80\n",
       "5.0     51\n",
       "1.0     21\n",
       "Name: goout, dtype: int64"
      ]
     },
     "metadata": {},
     "output_type": "display_data"
    }
   ],
   "source": [
    "fill_na_with_median('goout')"
   ]
  },
  {
   "cell_type": "markdown",
   "metadata": {},
   "source": [
    "### Столбец health"
   ]
  },
  {
   "cell_type": "markdown",
   "metadata": {},
   "source": [
    "Описание: текущее состояние здоровья (от 1 - очень плохо до 5 - очень хорошо). Посмотрим на наши данные."
   ]
  },
  {
   "cell_type": "code",
   "execution_count": 2085,
   "metadata": {
    "scrolled": true
   },
   "outputs": [
    {
     "data": {
      "text/plain": [
       "5.0    134\n",
       "3.0     87\n",
       "4.0     58\n",
       "1.0     46\n",
       "2.0     42\n",
       "NaN     15\n",
       "Name: health, dtype: int64"
      ]
     },
     "execution_count": 2085,
     "metadata": {},
     "output_type": "execute_result"
    }
   ],
   "source": [
    "df.health.value_counts(dropna = False)"
   ]
  },
  {
   "cell_type": "code",
   "execution_count": 2086,
   "metadata": {},
   "outputs": [
    {
     "data": {
      "text/plain": [
       "<matplotlib.axes._subplots.AxesSubplot at 0x1eda8871348>"
      ]
     },
     "execution_count": 2086,
     "metadata": {},
     "output_type": "execute_result"
    },
    {
     "data": {
      "image/png": "[encoded data removed]",
      "text/plain": [
       "<Figure size 432x288 with 1 Axes>"
      ]
     },
     "metadata": {
      "needs_background": "light"
     },
     "output_type": "display_data"
    }
   ],
   "source": [
    "df.health.hist(bins = 5)"
   ]
  },
  {
   "cell_type": "markdown",
   "metadata": {},
   "source": [
    "У нас нет противоречащих логике выбросов, есть 15 пропусков, заполним их медианой. По распределению заметен тренд на возрастание - в большей массе у учеников все отлично со здоровьем."
   ]
  },
  {
   "cell_type": "code",
   "execution_count": 2087,
   "metadata": {
    "scrolled": false
   },
   "outputs": [
    {
     "data": {
      "text/plain": [
       "5.0    134\n",
       "3.0     87\n",
       "4.0     73\n",
       "1.0     46\n",
       "2.0     42\n",
       "Name: health, dtype: int64"
      ]
     },
     "metadata": {},
     "output_type": "display_data"
    }
   ],
   "source": [
    "fill_na_with_median('health')"
   ]
  },
  {
   "cell_type": "markdown",
   "metadata": {},
   "source": [
    "### Столбец failures"
   ]
  },
  {
   "cell_type": "markdown",
   "metadata": {},
   "source": [
    "Описание: количество внеучебных неудач (n, если 1<=n<3, иначе 0). Посмотрим на данные."
   ]
  },
  {
   "cell_type": "code",
   "execution_count": 2088,
   "metadata": {},
   "outputs": [
    {
     "data": {
      "text/plain": [
       "0.0    285\n",
       "1.0     48\n",
       "NaN     22\n",
       "3.0     14\n",
       "2.0     13\n",
       "Name: failures, dtype: int64"
      ]
     },
     "execution_count": 2088,
     "metadata": {},
     "output_type": "execute_result"
    }
   ],
   "source": [
    "df.failures.value_counts(dropna = False)"
   ]
  },
  {
   "cell_type": "code",
   "execution_count": 2089,
   "metadata": {},
   "outputs": [
    {
     "data": {
      "text/plain": [
       "<matplotlib.axes._subplots.AxesSubplot at 0x1eda88fe4c8>"
      ]
     },
     "execution_count": 2089,
     "metadata": {},
     "output_type": "execute_result"
    },
    {
     "data": {
      "image/png": "[encoded data removed]",
      "text/plain": [
       "<Figure size 432x288 with 1 Axes>"
      ]
     },
     "metadata": {
      "needs_background": "light"
     },
     "output_type": "display_data"
    }
   ],
   "source": [
    "df.failures.hist(bins = 4)"
   ]
  },
  {
   "cell_type": "markdown",
   "metadata": {},
   "source": [
    "У нас нет противоречащих логике выбросов, есть 22 пропуска, заполним их медианой. По распределению заметен тренд на убывание - у большей части учеников не было внеучебных неудач."
   ]
  },
  {
   "cell_type": "code",
   "execution_count": 2090,
   "metadata": {},
   "outputs": [
    {
     "data": {
      "text/plain": [
       "0.0    307\n",
       "1.0     48\n",
       "3.0     14\n",
       "2.0     13\n",
       "Name: failures, dtype: int64"
      ]
     },
     "metadata": {},
     "output_type": "display_data"
    }
   ],
   "source": [
    "fill_na_with_median('failures')"
   ]
  },
  {
   "cell_type": "markdown",
   "metadata": {},
   "source": [
    "## Столбец studytime,granular"
   ]
  },
  {
   "cell_type": "markdown",
   "metadata": {},
   "source": [
    "По логике этот столбец как-то связан со столбцом studytime. Посмотрим на данные, на распределение, заполним пропуски медианой, аналогично studytime и посмотрим на корреляцию этих признаков."
   ]
  },
  {
   "cell_type": "code",
   "execution_count": 2091,
   "metadata": {},
   "outputs": [
    {
     "data": {
      "text/plain": [
       "-6.0     184\n",
       "-3.0     102\n",
       "-9.0      62\n",
       "-12.0     27\n",
       " NaN       7\n",
       "Name: studytime, granular, dtype: int64"
      ]
     },
     "execution_count": 2091,
     "metadata": {},
     "output_type": "execute_result"
    }
   ],
   "source": [
    "df['studytime, granular'].value_counts(dropna = False)"
   ]
  },
  {
   "cell_type": "markdown",
   "metadata": {},
   "source": [
    "Пропусков в данных не так уж и много - **всего 7**."
   ]
  },
  {
   "cell_type": "code",
   "execution_count": 2092,
   "metadata": {},
   "outputs": [
    {
     "data": {
      "text/plain": [
       "-6.0     191\n",
       "-3.0     102\n",
       "-9.0      62\n",
       "-12.0     27\n",
       "Name: studytime, granular, dtype: int64"
      ]
     },
     "metadata": {},
     "output_type": "display_data"
    }
   ],
   "source": [
    "fill_na_with_median('studytime, granular')"
   ]
  },
  {
   "cell_type": "code",
   "execution_count": 2093,
   "metadata": {},
   "outputs": [
    {
     "data": {
      "text/plain": [
       "<matplotlib.axes._subplots.AxesSubplot at 0x1eda89534c8>"
      ]
     },
     "execution_count": 2093,
     "metadata": {},
     "output_type": "execute_result"
    },
    {
     "data": {
      "image/png": "[encoded data removed]",
      "text/plain": [
       "<Figure size 432x288 with 1 Axes>"
      ]
     },
     "metadata": {
      "needs_background": "light"
     },
     "output_type": "display_data"
    }
   ],
   "source": [
    "df['studytime, granular'].hist(bins = 4)"
   ]
  },
  {
   "cell_type": "markdown",
   "metadata": {},
   "source": [
    "Посмотрим на значения столбца studytime"
   ]
  },
  {
   "cell_type": "code",
   "execution_count": 2094,
   "metadata": {
    "scrolled": true
   },
   "outputs": [
    {
     "data": {
      "text/plain": [
       "2.0    191\n",
       "1.0    102\n",
       "3.0     62\n",
       "4.0     27\n",
       "Name: studytime, dtype: int64"
      ]
     },
     "execution_count": 2094,
     "metadata": {},
     "output_type": "execute_result"
    }
   ],
   "source": [
    "df.studytime.value_counts()"
   ]
  },
  {
   "cell_type": "markdown",
   "metadata": {},
   "source": [
    "Предположительно **studytime,granular = studytime * -3**. Проверим корреляцию этих двух столбцов."
   ]
  },
  {
   "cell_type": "code",
   "execution_count": 2095,
   "metadata": {
    "scrolled": true
   },
   "outputs": [
    {
     "data": {
      "text/html": [
       "<div>\n",
       "<style scoped>\n",
       "    .dataframe tbody tr th:only-of-type {\n",
       "        vertical-align: middle;\n",
       "    }\n",
       "\n",
       "    .dataframe tbody tr th {\n",
       "        vertical-align: top;\n",
       "    }\n",
       "\n",
       "    .dataframe thead th {\n",
       "        text-align: right;\n",
       "    }\n",
       "</style>\n",
       "<table border=\"1\" class=\"dataframe\">\n",
       "  <thead>\n",
       "    <tr style=\"text-align: right;\">\n",
       "      <th></th>\n",
       "      <th>studytime, granular</th>\n",
       "      <th>studytime</th>\n",
       "    </tr>\n",
       "  </thead>\n",
       "  <tbody>\n",
       "    <tr>\n",
       "      <td>studytime, granular</td>\n",
       "      <td>1.0</td>\n",
       "      <td>-1.0</td>\n",
       "    </tr>\n",
       "    <tr>\n",
       "      <td>studytime</td>\n",
       "      <td>-1.0</td>\n",
       "      <td>1.0</td>\n",
       "    </tr>\n",
       "  </tbody>\n",
       "</table>\n",
       "</div>"
      ],
      "text/plain": [
       "                     studytime, granular  studytime\n",
       "studytime, granular                  1.0       -1.0\n",
       "studytime                           -1.0        1.0"
      ]
     },
     "execution_count": 2095,
     "metadata": {},
     "output_type": "execute_result"
    }
   ],
   "source": [
    "studytime = df[['studytime, granular','studytime']]\n",
    "studytime.corr()"
   ]
  },
  {
   "cell_type": "markdown",
   "metadata": {},
   "source": [
    "Видим абсолютную корреляцию, догадка подтвердилась, можем удалить столбец studytime, granular."
   ]
  },
  {
   "cell_type": "code",
   "execution_count": 2096,
   "metadata": {},
   "outputs": [],
   "source": [
    "df.drop(columns = ['studytime, granular'], axis = 1,inplace = True)"
   ]
  },
  {
   "cell_type": "markdown",
   "metadata": {},
   "source": [
    "## Корреляция признаков"
   ]
  },
  {
   "cell_type": "markdown",
   "metadata": {},
   "source": [
    "Итак, мы уже удалили признак 'studytime,granular', сильно скоррелированный с признаком 'studytime'. Теперь посмотрим на корреляцию остальных признаков."
   ]
  },
  {
   "cell_type": "code",
   "execution_count": 2097,
   "metadata": {},
   "outputs": [
    {
     "data": {
      "text/html": [
       "<div>\n",
       "<style scoped>\n",
       "    .dataframe tbody tr th:only-of-type {\n",
       "        vertical-align: middle;\n",
       "    }\n",
       "\n",
       "    .dataframe tbody tr th {\n",
       "        vertical-align: top;\n",
       "    }\n",
       "\n",
       "    .dataframe thead th {\n",
       "        text-align: right;\n",
       "    }\n",
       "</style>\n",
       "<table border=\"1\" class=\"dataframe\">\n",
       "  <thead>\n",
       "    <tr style=\"text-align: right;\">\n",
       "      <th></th>\n",
       "      <th>school</th>\n",
       "      <th>sex</th>\n",
       "      <th>age</th>\n",
       "      <th>address</th>\n",
       "      <th>famsize</th>\n",
       "      <th>Pstatus</th>\n",
       "      <th>Medu</th>\n",
       "      <th>Fedu</th>\n",
       "      <th>traveltime</th>\n",
       "      <th>studytime</th>\n",
       "      <th>failures</th>\n",
       "      <th>schoolsup</th>\n",
       "      <th>famsup</th>\n",
       "      <th>paid</th>\n",
       "      <th>activities</th>\n",
       "      <th>nursery</th>\n",
       "      <th>higher</th>\n",
       "      <th>internet</th>\n",
       "      <th>romantic</th>\n",
       "      <th>famrel</th>\n",
       "      <th>freetime</th>\n",
       "      <th>goout</th>\n",
       "      <th>health</th>\n",
       "      <th>absences</th>\n",
       "      <th>score</th>\n",
       "    </tr>\n",
       "  </thead>\n",
       "  <tbody>\n",
       "    <tr>\n",
       "      <td>school</td>\n",
       "      <td>1.0</td>\n",
       "      <td>NaN</td>\n",
       "      <td>NaN</td>\n",
       "      <td>NaN</td>\n",
       "      <td>NaN</td>\n",
       "      <td>NaN</td>\n",
       "      <td>NaN</td>\n",
       "      <td>NaN</td>\n",
       "      <td>NaN</td>\n",
       "      <td>NaN</td>\n",
       "      <td>NaN</td>\n",
       "      <td>NaN</td>\n",
       "      <td>NaN</td>\n",
       "      <td>NaN</td>\n",
       "      <td>NaN</td>\n",
       "      <td>NaN</td>\n",
       "      <td>NaN</td>\n",
       "      <td>NaN</td>\n",
       "      <td>NaN</td>\n",
       "      <td>NaN</td>\n",
       "      <td>NaN</td>\n",
       "      <td>NaN</td>\n",
       "      <td>NaN</td>\n",
       "      <td>NaN</td>\n",
       "      <td>NaN</td>\n",
       "    </tr>\n",
       "    <tr>\n",
       "      <td>sex</td>\n",
       "      <td>NaN</td>\n",
       "      <td>1.0</td>\n",
       "      <td>NaN</td>\n",
       "      <td>NaN</td>\n",
       "      <td>NaN</td>\n",
       "      <td>NaN</td>\n",
       "      <td>NaN</td>\n",
       "      <td>NaN</td>\n",
       "      <td>NaN</td>\n",
       "      <td>NaN</td>\n",
       "      <td>NaN</td>\n",
       "      <td>NaN</td>\n",
       "      <td>NaN</td>\n",
       "      <td>NaN</td>\n",
       "      <td>NaN</td>\n",
       "      <td>NaN</td>\n",
       "      <td>NaN</td>\n",
       "      <td>NaN</td>\n",
       "      <td>NaN</td>\n",
       "      <td>NaN</td>\n",
       "      <td>NaN</td>\n",
       "      <td>NaN</td>\n",
       "      <td>NaN</td>\n",
       "      <td>NaN</td>\n",
       "      <td>NaN</td>\n",
       "    </tr>\n",
       "    <tr>\n",
       "      <td>age</td>\n",
       "      <td>NaN</td>\n",
       "      <td>NaN</td>\n",
       "      <td>1.0</td>\n",
       "      <td>NaN</td>\n",
       "      <td>NaN</td>\n",
       "      <td>NaN</td>\n",
       "      <td>NaN</td>\n",
       "      <td>NaN</td>\n",
       "      <td>NaN</td>\n",
       "      <td>NaN</td>\n",
       "      <td>NaN</td>\n",
       "      <td>NaN</td>\n",
       "      <td>NaN</td>\n",
       "      <td>NaN</td>\n",
       "      <td>NaN</td>\n",
       "      <td>NaN</td>\n",
       "      <td>NaN</td>\n",
       "      <td>NaN</td>\n",
       "      <td>NaN</td>\n",
       "      <td>NaN</td>\n",
       "      <td>NaN</td>\n",
       "      <td>NaN</td>\n",
       "      <td>NaN</td>\n",
       "      <td>NaN</td>\n",
       "      <td>NaN</td>\n",
       "    </tr>\n",
       "    <tr>\n",
       "      <td>address</td>\n",
       "      <td>NaN</td>\n",
       "      <td>NaN</td>\n",
       "      <td>NaN</td>\n",
       "      <td>1.0</td>\n",
       "      <td>NaN</td>\n",
       "      <td>NaN</td>\n",
       "      <td>NaN</td>\n",
       "      <td>NaN</td>\n",
       "      <td>NaN</td>\n",
       "      <td>NaN</td>\n",
       "      <td>NaN</td>\n",
       "      <td>NaN</td>\n",
       "      <td>NaN</td>\n",
       "      <td>NaN</td>\n",
       "      <td>NaN</td>\n",
       "      <td>NaN</td>\n",
       "      <td>NaN</td>\n",
       "      <td>NaN</td>\n",
       "      <td>NaN</td>\n",
       "      <td>NaN</td>\n",
       "      <td>NaN</td>\n",
       "      <td>NaN</td>\n",
       "      <td>NaN</td>\n",
       "      <td>NaN</td>\n",
       "      <td>NaN</td>\n",
       "    </tr>\n",
       "    <tr>\n",
       "      <td>famsize</td>\n",
       "      <td>NaN</td>\n",
       "      <td>NaN</td>\n",
       "      <td>NaN</td>\n",
       "      <td>NaN</td>\n",
       "      <td>1.0</td>\n",
       "      <td>NaN</td>\n",
       "      <td>NaN</td>\n",
       "      <td>NaN</td>\n",
       "      <td>NaN</td>\n",
       "      <td>NaN</td>\n",
       "      <td>NaN</td>\n",
       "      <td>NaN</td>\n",
       "      <td>NaN</td>\n",
       "      <td>NaN</td>\n",
       "      <td>NaN</td>\n",
       "      <td>NaN</td>\n",
       "      <td>NaN</td>\n",
       "      <td>NaN</td>\n",
       "      <td>NaN</td>\n",
       "      <td>NaN</td>\n",
       "      <td>NaN</td>\n",
       "      <td>NaN</td>\n",
       "      <td>NaN</td>\n",
       "      <td>NaN</td>\n",
       "      <td>NaN</td>\n",
       "    </tr>\n",
       "    <tr>\n",
       "      <td>Pstatus</td>\n",
       "      <td>NaN</td>\n",
       "      <td>NaN</td>\n",
       "      <td>NaN</td>\n",
       "      <td>NaN</td>\n",
       "      <td>NaN</td>\n",
       "      <td>1.0</td>\n",
       "      <td>NaN</td>\n",
       "      <td>NaN</td>\n",
       "      <td>NaN</td>\n",
       "      <td>NaN</td>\n",
       "      <td>NaN</td>\n",
       "      <td>NaN</td>\n",
       "      <td>NaN</td>\n",
       "      <td>NaN</td>\n",
       "      <td>NaN</td>\n",
       "      <td>NaN</td>\n",
       "      <td>NaN</td>\n",
       "      <td>NaN</td>\n",
       "      <td>NaN</td>\n",
       "      <td>NaN</td>\n",
       "      <td>NaN</td>\n",
       "      <td>NaN</td>\n",
       "      <td>NaN</td>\n",
       "      <td>NaN</td>\n",
       "      <td>NaN</td>\n",
       "    </tr>\n",
       "    <tr>\n",
       "      <td>Medu</td>\n",
       "      <td>NaN</td>\n",
       "      <td>NaN</td>\n",
       "      <td>NaN</td>\n",
       "      <td>NaN</td>\n",
       "      <td>NaN</td>\n",
       "      <td>NaN</td>\n",
       "      <td>1.000000</td>\n",
       "      <td>0.605455</td>\n",
       "      <td>NaN</td>\n",
       "      <td>NaN</td>\n",
       "      <td>NaN</td>\n",
       "      <td>NaN</td>\n",
       "      <td>NaN</td>\n",
       "      <td>NaN</td>\n",
       "      <td>NaN</td>\n",
       "      <td>NaN</td>\n",
       "      <td>NaN</td>\n",
       "      <td>NaN</td>\n",
       "      <td>NaN</td>\n",
       "      <td>NaN</td>\n",
       "      <td>NaN</td>\n",
       "      <td>NaN</td>\n",
       "      <td>NaN</td>\n",
       "      <td>NaN</td>\n",
       "      <td>NaN</td>\n",
       "    </tr>\n",
       "    <tr>\n",
       "      <td>Fedu</td>\n",
       "      <td>NaN</td>\n",
       "      <td>NaN</td>\n",
       "      <td>NaN</td>\n",
       "      <td>NaN</td>\n",
       "      <td>NaN</td>\n",
       "      <td>NaN</td>\n",
       "      <td>0.605455</td>\n",
       "      <td>1.000000</td>\n",
       "      <td>NaN</td>\n",
       "      <td>NaN</td>\n",
       "      <td>NaN</td>\n",
       "      <td>NaN</td>\n",
       "      <td>NaN</td>\n",
       "      <td>NaN</td>\n",
       "      <td>NaN</td>\n",
       "      <td>NaN</td>\n",
       "      <td>NaN</td>\n",
       "      <td>NaN</td>\n",
       "      <td>NaN</td>\n",
       "      <td>NaN</td>\n",
       "      <td>NaN</td>\n",
       "      <td>NaN</td>\n",
       "      <td>NaN</td>\n",
       "      <td>NaN</td>\n",
       "      <td>NaN</td>\n",
       "    </tr>\n",
       "    <tr>\n",
       "      <td>traveltime</td>\n",
       "      <td>NaN</td>\n",
       "      <td>NaN</td>\n",
       "      <td>NaN</td>\n",
       "      <td>NaN</td>\n",
       "      <td>NaN</td>\n",
       "      <td>NaN</td>\n",
       "      <td>NaN</td>\n",
       "      <td>NaN</td>\n",
       "      <td>1.0</td>\n",
       "      <td>NaN</td>\n",
       "      <td>NaN</td>\n",
       "      <td>NaN</td>\n",
       "      <td>NaN</td>\n",
       "      <td>NaN</td>\n",
       "      <td>NaN</td>\n",
       "      <td>NaN</td>\n",
       "      <td>NaN</td>\n",
       "      <td>NaN</td>\n",
       "      <td>NaN</td>\n",
       "      <td>NaN</td>\n",
       "      <td>NaN</td>\n",
       "      <td>NaN</td>\n",
       "      <td>NaN</td>\n",
       "      <td>NaN</td>\n",
       "      <td>NaN</td>\n",
       "    </tr>\n",
       "    <tr>\n",
       "      <td>studytime</td>\n",
       "      <td>NaN</td>\n",
       "      <td>NaN</td>\n",
       "      <td>NaN</td>\n",
       "      <td>NaN</td>\n",
       "      <td>NaN</td>\n",
       "      <td>NaN</td>\n",
       "      <td>NaN</td>\n",
       "      <td>NaN</td>\n",
       "      <td>NaN</td>\n",
       "      <td>1.0</td>\n",
       "      <td>NaN</td>\n",
       "      <td>NaN</td>\n",
       "      <td>NaN</td>\n",
       "      <td>NaN</td>\n",
       "      <td>NaN</td>\n",
       "      <td>NaN</td>\n",
       "      <td>NaN</td>\n",
       "      <td>NaN</td>\n",
       "      <td>NaN</td>\n",
       "      <td>NaN</td>\n",
       "      <td>NaN</td>\n",
       "      <td>NaN</td>\n",
       "      <td>NaN</td>\n",
       "      <td>NaN</td>\n",
       "      <td>NaN</td>\n",
       "    </tr>\n",
       "    <tr>\n",
       "      <td>failures</td>\n",
       "      <td>NaN</td>\n",
       "      <td>NaN</td>\n",
       "      <td>NaN</td>\n",
       "      <td>NaN</td>\n",
       "      <td>NaN</td>\n",
       "      <td>NaN</td>\n",
       "      <td>NaN</td>\n",
       "      <td>NaN</td>\n",
       "      <td>NaN</td>\n",
       "      <td>NaN</td>\n",
       "      <td>1.0</td>\n",
       "      <td>NaN</td>\n",
       "      <td>NaN</td>\n",
       "      <td>NaN</td>\n",
       "      <td>NaN</td>\n",
       "      <td>NaN</td>\n",
       "      <td>NaN</td>\n",
       "      <td>NaN</td>\n",
       "      <td>NaN</td>\n",
       "      <td>NaN</td>\n",
       "      <td>NaN</td>\n",
       "      <td>NaN</td>\n",
       "      <td>NaN</td>\n",
       "      <td>NaN</td>\n",
       "      <td>NaN</td>\n",
       "    </tr>\n",
       "    <tr>\n",
       "      <td>schoolsup</td>\n",
       "      <td>NaN</td>\n",
       "      <td>NaN</td>\n",
       "      <td>NaN</td>\n",
       "      <td>NaN</td>\n",
       "      <td>NaN</td>\n",
       "      <td>NaN</td>\n",
       "      <td>NaN</td>\n",
       "      <td>NaN</td>\n",
       "      <td>NaN</td>\n",
       "      <td>NaN</td>\n",
       "      <td>NaN</td>\n",
       "      <td>1.0</td>\n",
       "      <td>NaN</td>\n",
       "      <td>NaN</td>\n",
       "      <td>NaN</td>\n",
       "      <td>NaN</td>\n",
       "      <td>NaN</td>\n",
       "      <td>NaN</td>\n",
       "      <td>NaN</td>\n",
       "      <td>NaN</td>\n",
       "      <td>NaN</td>\n",
       "      <td>NaN</td>\n",
       "      <td>NaN</td>\n",
       "      <td>NaN</td>\n",
       "      <td>NaN</td>\n",
       "    </tr>\n",
       "    <tr>\n",
       "      <td>famsup</td>\n",
       "      <td>NaN</td>\n",
       "      <td>NaN</td>\n",
       "      <td>NaN</td>\n",
       "      <td>NaN</td>\n",
       "      <td>NaN</td>\n",
       "      <td>NaN</td>\n",
       "      <td>NaN</td>\n",
       "      <td>NaN</td>\n",
       "      <td>NaN</td>\n",
       "      <td>NaN</td>\n",
       "      <td>NaN</td>\n",
       "      <td>NaN</td>\n",
       "      <td>1.0</td>\n",
       "      <td>NaN</td>\n",
       "      <td>NaN</td>\n",
       "      <td>NaN</td>\n",
       "      <td>NaN</td>\n",
       "      <td>NaN</td>\n",
       "      <td>NaN</td>\n",
       "      <td>NaN</td>\n",
       "      <td>NaN</td>\n",
       "      <td>NaN</td>\n",
       "      <td>NaN</td>\n",
       "      <td>NaN</td>\n",
       "      <td>NaN</td>\n",
       "    </tr>\n",
       "    <tr>\n",
       "      <td>paid</td>\n",
       "      <td>NaN</td>\n",
       "      <td>NaN</td>\n",
       "      <td>NaN</td>\n",
       "      <td>NaN</td>\n",
       "      <td>NaN</td>\n",
       "      <td>NaN</td>\n",
       "      <td>NaN</td>\n",
       "      <td>NaN</td>\n",
       "      <td>NaN</td>\n",
       "      <td>NaN</td>\n",
       "      <td>NaN</td>\n",
       "      <td>NaN</td>\n",
       "      <td>NaN</td>\n",
       "      <td>1.0</td>\n",
       "      <td>NaN</td>\n",
       "      <td>NaN</td>\n",
       "      <td>NaN</td>\n",
       "      <td>NaN</td>\n",
       "      <td>NaN</td>\n",
       "      <td>NaN</td>\n",
       "      <td>NaN</td>\n",
       "      <td>NaN</td>\n",
       "      <td>NaN</td>\n",
       "      <td>NaN</td>\n",
       "      <td>NaN</td>\n",
       "    </tr>\n",
       "    <tr>\n",
       "      <td>activities</td>\n",
       "      <td>NaN</td>\n",
       "      <td>NaN</td>\n",
       "      <td>NaN</td>\n",
       "      <td>NaN</td>\n",
       "      <td>NaN</td>\n",
       "      <td>NaN</td>\n",
       "      <td>NaN</td>\n",
       "      <td>NaN</td>\n",
       "      <td>NaN</td>\n",
       "      <td>NaN</td>\n",
       "      <td>NaN</td>\n",
       "      <td>NaN</td>\n",
       "      <td>NaN</td>\n",
       "      <td>NaN</td>\n",
       "      <td>1.0</td>\n",
       "      <td>NaN</td>\n",
       "      <td>NaN</td>\n",
       "      <td>NaN</td>\n",
       "      <td>NaN</td>\n",
       "      <td>NaN</td>\n",
       "      <td>NaN</td>\n",
       "      <td>NaN</td>\n",
       "      <td>NaN</td>\n",
       "      <td>NaN</td>\n",
       "      <td>NaN</td>\n",
       "    </tr>\n",
       "    <tr>\n",
       "      <td>nursery</td>\n",
       "      <td>NaN</td>\n",
       "      <td>NaN</td>\n",
       "      <td>NaN</td>\n",
       "      <td>NaN</td>\n",
       "      <td>NaN</td>\n",
       "      <td>NaN</td>\n",
       "      <td>NaN</td>\n",
       "      <td>NaN</td>\n",
       "      <td>NaN</td>\n",
       "      <td>NaN</td>\n",
       "      <td>NaN</td>\n",
       "      <td>NaN</td>\n",
       "      <td>NaN</td>\n",
       "      <td>NaN</td>\n",
       "      <td>NaN</td>\n",
       "      <td>1.0</td>\n",
       "      <td>NaN</td>\n",
       "      <td>NaN</td>\n",
       "      <td>NaN</td>\n",
       "      <td>NaN</td>\n",
       "      <td>NaN</td>\n",
       "      <td>NaN</td>\n",
       "      <td>NaN</td>\n",
       "      <td>NaN</td>\n",
       "      <td>NaN</td>\n",
       "    </tr>\n",
       "    <tr>\n",
       "      <td>higher</td>\n",
       "      <td>NaN</td>\n",
       "      <td>NaN</td>\n",
       "      <td>NaN</td>\n",
       "      <td>NaN</td>\n",
       "      <td>NaN</td>\n",
       "      <td>NaN</td>\n",
       "      <td>NaN</td>\n",
       "      <td>NaN</td>\n",
       "      <td>NaN</td>\n",
       "      <td>NaN</td>\n",
       "      <td>NaN</td>\n",
       "      <td>NaN</td>\n",
       "      <td>NaN</td>\n",
       "      <td>NaN</td>\n",
       "      <td>NaN</td>\n",
       "      <td>NaN</td>\n",
       "      <td>1.0</td>\n",
       "      <td>NaN</td>\n",
       "      <td>NaN</td>\n",
       "      <td>NaN</td>\n",
       "      <td>NaN</td>\n",
       "      <td>NaN</td>\n",
       "      <td>NaN</td>\n",
       "      <td>NaN</td>\n",
       "      <td>NaN</td>\n",
       "    </tr>\n",
       "    <tr>\n",
       "      <td>internet</td>\n",
       "      <td>NaN</td>\n",
       "      <td>NaN</td>\n",
       "      <td>NaN</td>\n",
       "      <td>NaN</td>\n",
       "      <td>NaN</td>\n",
       "      <td>NaN</td>\n",
       "      <td>NaN</td>\n",
       "      <td>NaN</td>\n",
       "      <td>NaN</td>\n",
       "      <td>NaN</td>\n",
       "      <td>NaN</td>\n",
       "      <td>NaN</td>\n",
       "      <td>NaN</td>\n",
       "      <td>NaN</td>\n",
       "      <td>NaN</td>\n",
       "      <td>NaN</td>\n",
       "      <td>NaN</td>\n",
       "      <td>1.0</td>\n",
       "      <td>NaN</td>\n",
       "      <td>NaN</td>\n",
       "      <td>NaN</td>\n",
       "      <td>NaN</td>\n",
       "      <td>NaN</td>\n",
       "      <td>NaN</td>\n",
       "      <td>NaN</td>\n",
       "    </tr>\n",
       "    <tr>\n",
       "      <td>romantic</td>\n",
       "      <td>NaN</td>\n",
       "      <td>NaN</td>\n",
       "      <td>NaN</td>\n",
       "      <td>NaN</td>\n",
       "      <td>NaN</td>\n",
       "      <td>NaN</td>\n",
       "      <td>NaN</td>\n",
       "      <td>NaN</td>\n",
       "      <td>NaN</td>\n",
       "      <td>NaN</td>\n",
       "      <td>NaN</td>\n",
       "      <td>NaN</td>\n",
       "      <td>NaN</td>\n",
       "      <td>NaN</td>\n",
       "      <td>NaN</td>\n",
       "      <td>NaN</td>\n",
       "      <td>NaN</td>\n",
       "      <td>NaN</td>\n",
       "      <td>1.0</td>\n",
       "      <td>NaN</td>\n",
       "      <td>NaN</td>\n",
       "      <td>NaN</td>\n",
       "      <td>NaN</td>\n",
       "      <td>NaN</td>\n",
       "      <td>NaN</td>\n",
       "    </tr>\n",
       "    <tr>\n",
       "      <td>famrel</td>\n",
       "      <td>NaN</td>\n",
       "      <td>NaN</td>\n",
       "      <td>NaN</td>\n",
       "      <td>NaN</td>\n",
       "      <td>NaN</td>\n",
       "      <td>NaN</td>\n",
       "      <td>NaN</td>\n",
       "      <td>NaN</td>\n",
       "      <td>NaN</td>\n",
       "      <td>NaN</td>\n",
       "      <td>NaN</td>\n",
       "      <td>NaN</td>\n",
       "      <td>NaN</td>\n",
       "      <td>NaN</td>\n",
       "      <td>NaN</td>\n",
       "      <td>NaN</td>\n",
       "      <td>NaN</td>\n",
       "      <td>NaN</td>\n",
       "      <td>NaN</td>\n",
       "      <td>1.0</td>\n",
       "      <td>NaN</td>\n",
       "      <td>NaN</td>\n",
       "      <td>NaN</td>\n",
       "      <td>NaN</td>\n",
       "      <td>NaN</td>\n",
       "    </tr>\n",
       "    <tr>\n",
       "      <td>freetime</td>\n",
       "      <td>NaN</td>\n",
       "      <td>NaN</td>\n",
       "      <td>NaN</td>\n",
       "      <td>NaN</td>\n",
       "      <td>NaN</td>\n",
       "      <td>NaN</td>\n",
       "      <td>NaN</td>\n",
       "      <td>NaN</td>\n",
       "      <td>NaN</td>\n",
       "      <td>NaN</td>\n",
       "      <td>NaN</td>\n",
       "      <td>NaN</td>\n",
       "      <td>NaN</td>\n",
       "      <td>NaN</td>\n",
       "      <td>NaN</td>\n",
       "      <td>NaN</td>\n",
       "      <td>NaN</td>\n",
       "      <td>NaN</td>\n",
       "      <td>NaN</td>\n",
       "      <td>NaN</td>\n",
       "      <td>1.0</td>\n",
       "      <td>NaN</td>\n",
       "      <td>NaN</td>\n",
       "      <td>NaN</td>\n",
       "      <td>NaN</td>\n",
       "    </tr>\n",
       "    <tr>\n",
       "      <td>goout</td>\n",
       "      <td>NaN</td>\n",
       "      <td>NaN</td>\n",
       "      <td>NaN</td>\n",
       "      <td>NaN</td>\n",
       "      <td>NaN</td>\n",
       "      <td>NaN</td>\n",
       "      <td>NaN</td>\n",
       "      <td>NaN</td>\n",
       "      <td>NaN</td>\n",
       "      <td>NaN</td>\n",
       "      <td>NaN</td>\n",
       "      <td>NaN</td>\n",
       "      <td>NaN</td>\n",
       "      <td>NaN</td>\n",
       "      <td>NaN</td>\n",
       "      <td>NaN</td>\n",
       "      <td>NaN</td>\n",
       "      <td>NaN</td>\n",
       "      <td>NaN</td>\n",
       "      <td>NaN</td>\n",
       "      <td>NaN</td>\n",
       "      <td>1.0</td>\n",
       "      <td>NaN</td>\n",
       "      <td>NaN</td>\n",
       "      <td>NaN</td>\n",
       "    </tr>\n",
       "    <tr>\n",
       "      <td>health</td>\n",
       "      <td>NaN</td>\n",
       "      <td>NaN</td>\n",
       "      <td>NaN</td>\n",
       "      <td>NaN</td>\n",
       "      <td>NaN</td>\n",
       "      <td>NaN</td>\n",
       "      <td>NaN</td>\n",
       "      <td>NaN</td>\n",
       "      <td>NaN</td>\n",
       "      <td>NaN</td>\n",
       "      <td>NaN</td>\n",
       "      <td>NaN</td>\n",
       "      <td>NaN</td>\n",
       "      <td>NaN</td>\n",
       "      <td>NaN</td>\n",
       "      <td>NaN</td>\n",
       "      <td>NaN</td>\n",
       "      <td>NaN</td>\n",
       "      <td>NaN</td>\n",
       "      <td>NaN</td>\n",
       "      <td>NaN</td>\n",
       "      <td>NaN</td>\n",
       "      <td>1.0</td>\n",
       "      <td>NaN</td>\n",
       "      <td>NaN</td>\n",
       "    </tr>\n",
       "    <tr>\n",
       "      <td>absences</td>\n",
       "      <td>NaN</td>\n",
       "      <td>NaN</td>\n",
       "      <td>NaN</td>\n",
       "      <td>NaN</td>\n",
       "      <td>NaN</td>\n",
       "      <td>NaN</td>\n",
       "      <td>NaN</td>\n",
       "      <td>NaN</td>\n",
       "      <td>NaN</td>\n",
       "      <td>NaN</td>\n",
       "      <td>NaN</td>\n",
       "      <td>NaN</td>\n",
       "      <td>NaN</td>\n",
       "      <td>NaN</td>\n",
       "      <td>NaN</td>\n",
       "      <td>NaN</td>\n",
       "      <td>NaN</td>\n",
       "      <td>NaN</td>\n",
       "      <td>NaN</td>\n",
       "      <td>NaN</td>\n",
       "      <td>NaN</td>\n",
       "      <td>NaN</td>\n",
       "      <td>NaN</td>\n",
       "      <td>1.0</td>\n",
       "      <td>NaN</td>\n",
       "    </tr>\n",
       "    <tr>\n",
       "      <td>score</td>\n",
       "      <td>NaN</td>\n",
       "      <td>NaN</td>\n",
       "      <td>NaN</td>\n",
       "      <td>NaN</td>\n",
       "      <td>NaN</td>\n",
       "      <td>NaN</td>\n",
       "      <td>NaN</td>\n",
       "      <td>NaN</td>\n",
       "      <td>NaN</td>\n",
       "      <td>NaN</td>\n",
       "      <td>NaN</td>\n",
       "      <td>NaN</td>\n",
       "      <td>NaN</td>\n",
       "      <td>NaN</td>\n",
       "      <td>NaN</td>\n",
       "      <td>NaN</td>\n",
       "      <td>NaN</td>\n",
       "      <td>NaN</td>\n",
       "      <td>NaN</td>\n",
       "      <td>NaN</td>\n",
       "      <td>NaN</td>\n",
       "      <td>NaN</td>\n",
       "      <td>NaN</td>\n",
       "      <td>NaN</td>\n",
       "      <td>1.0</td>\n",
       "    </tr>\n",
       "  </tbody>\n",
       "</table>\n",
       "</div>"
      ],
      "text/plain": [
       "            school  sex  age  address  famsize  Pstatus      Medu      Fedu  \\\n",
       "school         1.0  NaN  NaN      NaN      NaN      NaN       NaN       NaN   \n",
       "sex            NaN  1.0  NaN      NaN      NaN      NaN       NaN       NaN   \n",
       "age            NaN  NaN  1.0      NaN      NaN      NaN       NaN       NaN   \n",
       "address        NaN  NaN  NaN      1.0      NaN      NaN       NaN       NaN   \n",
       "famsize        NaN  NaN  NaN      NaN      1.0      NaN       NaN       NaN   \n",
       "Pstatus        NaN  NaN  NaN      NaN      NaN      1.0       NaN       NaN   \n",
       "Medu           NaN  NaN  NaN      NaN      NaN      NaN  1.000000  0.605455   \n",
       "Fedu           NaN  NaN  NaN      NaN      NaN      NaN  0.605455  1.000000   \n",
       "traveltime     NaN  NaN  NaN      NaN      NaN      NaN       NaN       NaN   \n",
       "studytime      NaN  NaN  NaN      NaN      NaN      NaN       NaN       NaN   \n",
       "failures       NaN  NaN  NaN      NaN      NaN      NaN       NaN       NaN   \n",
       "schoolsup      NaN  NaN  NaN      NaN      NaN      NaN       NaN       NaN   \n",
       "famsup         NaN  NaN  NaN      NaN      NaN      NaN       NaN       NaN   \n",
       "paid           NaN  NaN  NaN      NaN      NaN      NaN       NaN       NaN   \n",
       "activities     NaN  NaN  NaN      NaN      NaN      NaN       NaN       NaN   \n",
       "nursery        NaN  NaN  NaN      NaN      NaN      NaN       NaN       NaN   \n",
       "higher         NaN  NaN  NaN      NaN      NaN      NaN       NaN       NaN   \n",
       "internet       NaN  NaN  NaN      NaN      NaN      NaN       NaN       NaN   \n",
       "romantic       NaN  NaN  NaN      NaN      NaN      NaN       NaN       NaN   \n",
       "famrel         NaN  NaN  NaN      NaN      NaN      NaN       NaN       NaN   \n",
       "freetime       NaN  NaN  NaN      NaN      NaN      NaN       NaN       NaN   \n",
       "goout          NaN  NaN  NaN      NaN      NaN      NaN       NaN       NaN   \n",
       "health         NaN  NaN  NaN      NaN      NaN      NaN       NaN       NaN   \n",
       "absences       NaN  NaN  NaN      NaN      NaN      NaN       NaN       NaN   \n",
       "score          NaN  NaN  NaN      NaN      NaN      NaN       NaN       NaN   \n",
       "\n",
       "            traveltime  studytime  failures  schoolsup  famsup  paid  \\\n",
       "school             NaN        NaN       NaN        NaN     NaN   NaN   \n",
       "sex                NaN        NaN       NaN        NaN     NaN   NaN   \n",
       "age                NaN        NaN       NaN        NaN     NaN   NaN   \n",
       "address            NaN        NaN       NaN        NaN     NaN   NaN   \n",
       "famsize            NaN        NaN       NaN        NaN     NaN   NaN   \n",
       "Pstatus            NaN        NaN       NaN        NaN     NaN   NaN   \n",
       "Medu               NaN        NaN       NaN        NaN     NaN   NaN   \n",
       "Fedu               NaN        NaN       NaN        NaN     NaN   NaN   \n",
       "traveltime         1.0        NaN       NaN        NaN     NaN   NaN   \n",
       "studytime          NaN        1.0       NaN        NaN     NaN   NaN   \n",
       "failures           NaN        NaN       1.0        NaN     NaN   NaN   \n",
       "schoolsup          NaN        NaN       NaN        1.0     NaN   NaN   \n",
       "famsup             NaN        NaN       NaN        NaN     1.0   NaN   \n",
       "paid               NaN        NaN       NaN        NaN     NaN   1.0   \n",
       "activities         NaN        NaN       NaN        NaN     NaN   NaN   \n",
       "nursery            NaN        NaN       NaN        NaN     NaN   NaN   \n",
       "higher             NaN        NaN       NaN        NaN     NaN   NaN   \n",
       "internet           NaN        NaN       NaN        NaN     NaN   NaN   \n",
       "romantic           NaN        NaN       NaN        NaN     NaN   NaN   \n",
       "famrel             NaN        NaN       NaN        NaN     NaN   NaN   \n",
       "freetime           NaN        NaN       NaN        NaN     NaN   NaN   \n",
       "goout              NaN        NaN       NaN        NaN     NaN   NaN   \n",
       "health             NaN        NaN       NaN        NaN     NaN   NaN   \n",
       "absences           NaN        NaN       NaN        NaN     NaN   NaN   \n",
       "score              NaN        NaN       NaN        NaN     NaN   NaN   \n",
       "\n",
       "            activities  nursery  higher  internet  romantic  famrel  freetime  \\\n",
       "school             NaN      NaN     NaN       NaN       NaN     NaN       NaN   \n",
       "sex                NaN      NaN     NaN       NaN       NaN     NaN       NaN   \n",
       "age                NaN      NaN     NaN       NaN       NaN     NaN       NaN   \n",
       "address            NaN      NaN     NaN       NaN       NaN     NaN       NaN   \n",
       "famsize            NaN      NaN     NaN       NaN       NaN     NaN       NaN   \n",
       "Pstatus            NaN      NaN     NaN       NaN       NaN     NaN       NaN   \n",
       "Medu               NaN      NaN     NaN       NaN       NaN     NaN       NaN   \n",
       "Fedu               NaN      NaN     NaN       NaN       NaN     NaN       NaN   \n",
       "traveltime         NaN      NaN     NaN       NaN       NaN     NaN       NaN   \n",
       "studytime          NaN      NaN     NaN       NaN       NaN     NaN       NaN   \n",
       "failures           NaN      NaN     NaN       NaN       NaN     NaN       NaN   \n",
       "schoolsup          NaN      NaN     NaN       NaN       NaN     NaN       NaN   \n",
       "famsup             NaN      NaN     NaN       NaN       NaN     NaN       NaN   \n",
       "paid               NaN      NaN     NaN       NaN       NaN     NaN       NaN   \n",
       "activities         1.0      NaN     NaN       NaN       NaN     NaN       NaN   \n",
       "nursery            NaN      1.0     NaN       NaN       NaN     NaN       NaN   \n",
       "higher             NaN      NaN     1.0       NaN       NaN     NaN       NaN   \n",
       "internet           NaN      NaN     NaN       1.0       NaN     NaN       NaN   \n",
       "romantic           NaN      NaN     NaN       NaN       1.0     NaN       NaN   \n",
       "famrel             NaN      NaN     NaN       NaN       NaN     1.0       NaN   \n",
       "freetime           NaN      NaN     NaN       NaN       NaN     NaN       1.0   \n",
       "goout              NaN      NaN     NaN       NaN       NaN     NaN       NaN   \n",
       "health             NaN      NaN     NaN       NaN       NaN     NaN       NaN   \n",
       "absences           NaN      NaN     NaN       NaN       NaN     NaN       NaN   \n",
       "score              NaN      NaN     NaN       NaN       NaN     NaN       NaN   \n",
       "\n",
       "            goout  health  absences  score  \n",
       "school        NaN     NaN       NaN    NaN  \n",
       "sex           NaN     NaN       NaN    NaN  \n",
       "age           NaN     NaN       NaN    NaN  \n",
       "address       NaN     NaN       NaN    NaN  \n",
       "famsize       NaN     NaN       NaN    NaN  \n",
       "Pstatus       NaN     NaN       NaN    NaN  \n",
       "Medu          NaN     NaN       NaN    NaN  \n",
       "Fedu          NaN     NaN       NaN    NaN  \n",
       "traveltime    NaN     NaN       NaN    NaN  \n",
       "studytime     NaN     NaN       NaN    NaN  \n",
       "failures      NaN     NaN       NaN    NaN  \n",
       "schoolsup     NaN     NaN       NaN    NaN  \n",
       "famsup        NaN     NaN       NaN    NaN  \n",
       "paid          NaN     NaN       NaN    NaN  \n",
       "activities    NaN     NaN       NaN    NaN  \n",
       "nursery       NaN     NaN       NaN    NaN  \n",
       "higher        NaN     NaN       NaN    NaN  \n",
       "internet      NaN     NaN       NaN    NaN  \n",
       "romantic      NaN     NaN       NaN    NaN  \n",
       "famrel        NaN     NaN       NaN    NaN  \n",
       "freetime      NaN     NaN       NaN    NaN  \n",
       "goout         1.0     NaN       NaN    NaN  \n",
       "health        NaN     1.0       NaN    NaN  \n",
       "absences      NaN     NaN       1.0    NaN  \n",
       "score         NaN     NaN       NaN    1.0  "
      ]
     },
     "execution_count": 2097,
     "metadata": {},
     "output_type": "execute_result"
    }
   ],
   "source": [
    "df_corr = df.corr()\n",
    "df_corr[df_corr > 0.5]"
   ]
  },
  {
   "cell_type": "markdown",
   "metadata": {},
   "source": [
    "Из данных видно, что корреляция больше 0.5 есть только у признаков Medu и Fedu. Попробуем из этих двух признаков сделать один."
   ]
  },
  {
   "cell_type": "code",
   "execution_count": 2098,
   "metadata": {},
   "outputs": [],
   "source": [
    "df['Pedu'] = (df.Medu + df.Fedu) / 2 # складываем и усредняем обозначения образования родителей"
   ]
  },
  {
   "cell_type": "markdown",
   "metadata": {},
   "source": [
    "Удалим признаки, из которых мы сделали один."
   ]
  },
  {
   "cell_type": "code",
   "execution_count": 2099,
   "metadata": {},
   "outputs": [],
   "source": [
    "columns = ['Medu','Fedu']\n",
    "df = df.drop(columns = columns, axis = 1)"
   ]
  },
  {
   "cell_type": "code",
   "execution_count": 2100,
   "metadata": {},
   "outputs": [
    {
     "data": {
      "text/html": [
       "<div>\n",
       "<style scoped>\n",
       "    .dataframe tbody tr th:only-of-type {\n",
       "        vertical-align: middle;\n",
       "    }\n",
       "\n",
       "    .dataframe tbody tr th {\n",
       "        vertical-align: top;\n",
       "    }\n",
       "\n",
       "    .dataframe thead th {\n",
       "        text-align: right;\n",
       "    }\n",
       "</style>\n",
       "<table border=\"1\" class=\"dataframe\">\n",
       "  <thead>\n",
       "    <tr style=\"text-align: right;\">\n",
       "      <th></th>\n",
       "      <th>school</th>\n",
       "      <th>sex</th>\n",
       "      <th>age</th>\n",
       "      <th>address</th>\n",
       "      <th>famsize</th>\n",
       "      <th>Pstatus</th>\n",
       "      <th>Mjob</th>\n",
       "      <th>Fjob</th>\n",
       "      <th>reason</th>\n",
       "      <th>guardian</th>\n",
       "      <th>traveltime</th>\n",
       "      <th>studytime</th>\n",
       "      <th>failures</th>\n",
       "      <th>schoolsup</th>\n",
       "      <th>famsup</th>\n",
       "      <th>paid</th>\n",
       "      <th>activities</th>\n",
       "      <th>nursery</th>\n",
       "      <th>higher</th>\n",
       "      <th>internet</th>\n",
       "      <th>romantic</th>\n",
       "      <th>famrel</th>\n",
       "      <th>freetime</th>\n",
       "      <th>goout</th>\n",
       "      <th>health</th>\n",
       "      <th>absences</th>\n",
       "      <th>score</th>\n",
       "      <th>Pedu</th>\n",
       "    </tr>\n",
       "  </thead>\n",
       "  <tbody>\n",
       "    <tr>\n",
       "      <td>0</td>\n",
       "      <td>1</td>\n",
       "      <td>1</td>\n",
       "      <td>18</td>\n",
       "      <td>1.0</td>\n",
       "      <td>1.0</td>\n",
       "      <td>0.0</td>\n",
       "      <td>at_home</td>\n",
       "      <td>teacher</td>\n",
       "      <td>course</td>\n",
       "      <td>mother</td>\n",
       "      <td>2.0</td>\n",
       "      <td>2.0</td>\n",
       "      <td>0.0</td>\n",
       "      <td>1.0</td>\n",
       "      <td>0.0</td>\n",
       "      <td>0.0</td>\n",
       "      <td>0.0</td>\n",
       "      <td>1.0</td>\n",
       "      <td>1.0</td>\n",
       "      <td>1.0</td>\n",
       "      <td>0.0</td>\n",
       "      <td>4.0</td>\n",
       "      <td>3.0</td>\n",
       "      <td>4.0</td>\n",
       "      <td>3.0</td>\n",
       "      <td>6.0</td>\n",
       "      <td>30.0</td>\n",
       "      <td>4.0</td>\n",
       "    </tr>\n",
       "    <tr>\n",
       "      <td>1</td>\n",
       "      <td>1</td>\n",
       "      <td>1</td>\n",
       "      <td>17</td>\n",
       "      <td>1.0</td>\n",
       "      <td>1.0</td>\n",
       "      <td>1.0</td>\n",
       "      <td>at_home</td>\n",
       "      <td>other</td>\n",
       "      <td>course</td>\n",
       "      <td>father</td>\n",
       "      <td>1.0</td>\n",
       "      <td>2.0</td>\n",
       "      <td>0.0</td>\n",
       "      <td>0.0</td>\n",
       "      <td>1.0</td>\n",
       "      <td>0.0</td>\n",
       "      <td>0.0</td>\n",
       "      <td>0.0</td>\n",
       "      <td>1.0</td>\n",
       "      <td>1.0</td>\n",
       "      <td>0.0</td>\n",
       "      <td>5.0</td>\n",
       "      <td>3.0</td>\n",
       "      <td>3.0</td>\n",
       "      <td>3.0</td>\n",
       "      <td>4.0</td>\n",
       "      <td>30.0</td>\n",
       "      <td>1.0</td>\n",
       "    </tr>\n",
       "    <tr>\n",
       "      <td>2</td>\n",
       "      <td>1</td>\n",
       "      <td>1</td>\n",
       "      <td>15</td>\n",
       "      <td>1.0</td>\n",
       "      <td>0.0</td>\n",
       "      <td>1.0</td>\n",
       "      <td>at_home</td>\n",
       "      <td>other</td>\n",
       "      <td>other</td>\n",
       "      <td>mother</td>\n",
       "      <td>1.0</td>\n",
       "      <td>2.0</td>\n",
       "      <td>3.0</td>\n",
       "      <td>1.0</td>\n",
       "      <td>0.0</td>\n",
       "      <td>0.0</td>\n",
       "      <td>0.0</td>\n",
       "      <td>1.0</td>\n",
       "      <td>1.0</td>\n",
       "      <td>1.0</td>\n",
       "      <td>0.0</td>\n",
       "      <td>4.0</td>\n",
       "      <td>3.0</td>\n",
       "      <td>2.0</td>\n",
       "      <td>3.0</td>\n",
       "      <td>10.0</td>\n",
       "      <td>50.0</td>\n",
       "      <td>1.0</td>\n",
       "    </tr>\n",
       "    <tr>\n",
       "      <td>3</td>\n",
       "      <td>1</td>\n",
       "      <td>1</td>\n",
       "      <td>15</td>\n",
       "      <td>1.0</td>\n",
       "      <td>1.0</td>\n",
       "      <td>1.0</td>\n",
       "      <td>health</td>\n",
       "      <td>other</td>\n",
       "      <td>home</td>\n",
       "      <td>mother</td>\n",
       "      <td>1.0</td>\n",
       "      <td>3.0</td>\n",
       "      <td>0.0</td>\n",
       "      <td>0.0</td>\n",
       "      <td>1.0</td>\n",
       "      <td>1.0</td>\n",
       "      <td>1.0</td>\n",
       "      <td>1.0</td>\n",
       "      <td>1.0</td>\n",
       "      <td>1.0</td>\n",
       "      <td>1.0</td>\n",
       "      <td>3.0</td>\n",
       "      <td>2.0</td>\n",
       "      <td>2.0</td>\n",
       "      <td>5.0</td>\n",
       "      <td>2.0</td>\n",
       "      <td>75.0</td>\n",
       "      <td>3.0</td>\n",
       "    </tr>\n",
       "    <tr>\n",
       "      <td>4</td>\n",
       "      <td>1</td>\n",
       "      <td>1</td>\n",
       "      <td>16</td>\n",
       "      <td>1.0</td>\n",
       "      <td>1.0</td>\n",
       "      <td>1.0</td>\n",
       "      <td>other</td>\n",
       "      <td>other</td>\n",
       "      <td>home</td>\n",
       "      <td>father</td>\n",
       "      <td>1.0</td>\n",
       "      <td>2.0</td>\n",
       "      <td>0.0</td>\n",
       "      <td>0.0</td>\n",
       "      <td>1.0</td>\n",
       "      <td>1.0</td>\n",
       "      <td>0.0</td>\n",
       "      <td>1.0</td>\n",
       "      <td>1.0</td>\n",
       "      <td>0.0</td>\n",
       "      <td>0.0</td>\n",
       "      <td>4.0</td>\n",
       "      <td>3.0</td>\n",
       "      <td>2.0</td>\n",
       "      <td>5.0</td>\n",
       "      <td>4.0</td>\n",
       "      <td>50.0</td>\n",
       "      <td>3.0</td>\n",
       "    </tr>\n",
       "  </tbody>\n",
       "</table>\n",
       "</div>"
      ],
      "text/plain": [
       "   school  sex  age  address  famsize  Pstatus     Mjob     Fjob  reason  \\\n",
       "0       1    1   18      1.0      1.0      0.0  at_home  teacher  course   \n",
       "1       1    1   17      1.0      1.0      1.0  at_home    other  course   \n",
       "2       1    1   15      1.0      0.0      1.0  at_home    other   other   \n",
       "3       1    1   15      1.0      1.0      1.0   health    other    home   \n",
       "4       1    1   16      1.0      1.0      1.0    other    other    home   \n",
       "\n",
       "  guardian  traveltime  studytime  failures  schoolsup  famsup  paid  \\\n",
       "0   mother         2.0        2.0       0.0        1.0     0.0   0.0   \n",
       "1   father         1.0        2.0       0.0        0.0     1.0   0.0   \n",
       "2   mother         1.0        2.0       3.0        1.0     0.0   0.0   \n",
       "3   mother         1.0        3.0       0.0        0.0     1.0   1.0   \n",
       "4   father         1.0        2.0       0.0        0.0     1.0   1.0   \n",
       "\n",
       "   activities  nursery  higher  internet  romantic  famrel  freetime  goout  \\\n",
       "0         0.0      1.0     1.0       1.0       0.0     4.0       3.0    4.0   \n",
       "1         0.0      0.0     1.0       1.0       0.0     5.0       3.0    3.0   \n",
       "2         0.0      1.0     1.0       1.0       0.0     4.0       3.0    2.0   \n",
       "3         1.0      1.0     1.0       1.0       1.0     3.0       2.0    2.0   \n",
       "4         0.0      1.0     1.0       0.0       0.0     4.0       3.0    2.0   \n",
       "\n",
       "   health  absences  score  Pedu  \n",
       "0     3.0       6.0   30.0   4.0  \n",
       "1     3.0       4.0   30.0   1.0  \n",
       "2     3.0      10.0   50.0   1.0  \n",
       "3     5.0       2.0   75.0   3.0  \n",
       "4     5.0       4.0   50.0   3.0  "
      ]
     },
     "execution_count": 2100,
     "metadata": {},
     "output_type": "execute_result"
    }
   ],
   "source": [
    "df.head()"
   ]
  },
  {
   "cell_type": "markdown",
   "metadata": {},
   "source": [
    "## Тест Стьюдента на значимость признаков"
   ]
  },
  {
   "cell_type": "markdown",
   "metadata": {},
   "source": [
    "После того как мы заполнили пропуски, удалили выбросы,разобрались с признаками с сильной и умеренно-сильной корреляцией, посмотрим, какие признаки тест Стьюдента пометит как важные для будущей модели."
   ]
  },
  {
   "cell_type": "code",
   "execution_count": 2101,
   "metadata": {},
   "outputs": [
    {
     "name": "stdout",
     "output_type": "stream",
     "text": [
      "Найдены статистически значимые различия для колонки sex\n",
      "Найдены статистически значимые различия для колонки address\n",
      "Найдены статистически значимые различия для колонки Mjob\n",
      "Найдены статистически значимые различия для колонки failures\n",
      "Найдены статистически значимые различия для колонки schoolsup\n",
      "Найдены статистически значимые различия для колонки paid\n",
      "Найдены статистически значимые различия для колонки higher\n",
      "Найдены статистически значимые различия для колонки romantic\n",
      "Найдены статистически значимые различия для колонки absences\n",
      "Найдены статистически значимые различия для колонки Pedu\n"
     ]
    }
   ],
   "source": [
    "columns = df.drop(columns = ['score'], axis = 1).columns\n",
    "\n",
    "for col in columns:\n",
    "    get_stat_dif(col)"
   ]
  },
  {
   "cell_type": "markdown",
   "metadata": {},
   "source": [
    "Итак, оставим только значимые по тесту Стьюдента признаки."
   ]
  },
  {
   "cell_type": "code",
   "execution_count": 2102,
   "metadata": {},
   "outputs": [
    {
     "data": {
      "text/plain": [
       "(382, 11)"
      ]
     },
     "execution_count": 2102,
     "metadata": {},
     "output_type": "execute_result"
    }
   ],
   "source": [
    "columns = ['sex','address','Mjob','failures','schoolsup','paid','higher','romantic','absences','Pedu','score']\n",
    "\n",
    "df = df[columns]\n",
    "df.shape"
   ]
  },
  {
   "cell_type": "markdown",
   "metadata": {},
   "source": [
    "## Выводы"
   ]
  },
  {
   "cell_type": "markdown",
   "metadata": {},
   "source": [
    "Итак, в результате EDA для анализа влияния условий жизни учащихся на их успевамость по математике, были получены следующие выводы:\n",
    "\n",
    "- В данных много столбцов с пропусками, но в самих столбцах достаточно мало пустых значений, наибольшее количество пропусков (в столбце Pstatus) составляет 11%.\n",
    "- Строк без пропусков всего 97, что составляет около 25% данных. По некоторым источникам, в таком случае наиболее хорошо подходят методы заполнения пропусков, основанные на статистических методах, поэтому пропуски заполнялись модой (для номинативных) и медианой (для числовых).\n",
    "- Выбросов немного и они найдены только в столбцах Fedu (образование отца), famrel (отношения в семье) и absences (количество пропущенных занятий), что позволяет сделать вывод о том, что данные достаточно чистые.\n",
    "- Между признаками studytime и studytime,granular была обнаружена полная корреляция. Очевидно, столбец studytime,granular был получен умножением значений из столбца studytime на -3. Из этих двух признаков был оставлен studytime.\n",
    "- Между признаками Medu и Fedu была обнаружена умеренная корреляция, между остальными признаками - слабая корреляция. Из признаков Medu и Fedu был сформирован признак Pedu - усредненное значение по сумме обозначений образования родителей.\n",
    "- Самые важные параметры, которые предлагается использовать в дальнейшем для построения модели, это sex, address, Mjob, failures, schoolsup, paid, higher, romantic, absences, Pedu и целевая переменная score."
   ]
  },
  {
   "cell_type": "markdown",
   "metadata": {},
   "source": [
    "## Построение регрессии"
   ]
  },
  {
   "cell_type": "markdown",
   "metadata": {},
   "source": [
    "Последним пунктом подготовки данных - сделаем новые переменные из признака Mjob с помощью get_dummies."
   ]
  },
  {
   "cell_type": "code",
   "execution_count": 2104,
   "metadata": {},
   "outputs": [
    {
     "data": {
      "text/plain": [
       "(382, 16)"
      ]
     },
     "execution_count": 2104,
     "metadata": {},
     "output_type": "execute_result"
    }
   ],
   "source": [
    "new_columns = pd.get_dummies(df.Mjob, prefix='Mjob')\n",
    "df = pd.concat([df, new_columns],axis = 1)\n",
    "df.shape"
   ]
  },
  {
   "cell_type": "markdown",
   "metadata": {},
   "source": [
    "Наконец, удалим признак Mjob, и подготовим данные для построения линейной регрессии."
   ]
  },
  {
   "cell_type": "code",
   "execution_count": 2105,
   "metadata": {},
   "outputs": [
    {
     "data": {
      "text/plain": [
       "(382, 15)"
      ]
     },
     "execution_count": 2105,
     "metadata": {},
     "output_type": "execute_result"
    }
   ],
   "source": [
    "df = df.drop(columns = ['Mjob'], axis = 1)\n",
    "df.shape"
   ]
  },
  {
   "cell_type": "markdown",
   "metadata": {},
   "source": [
    "Импортируем нужные библиотеки"
   ]
  },
  {
   "cell_type": "code",
   "execution_count": 2110,
   "metadata": {},
   "outputs": [],
   "source": [
    "from sklearn.model_selection import train_test_split\n",
    "from sklearn.linear_model import LinearRegression\n",
    "from sklearn.preprocessing import RobustScaler\n",
    "from sklearn.metrics import mean_squared_error\n",
    "import numpy as np"
   ]
  },
  {
   "cell_type": "markdown",
   "metadata": {},
   "source": [
    "Реализуем функцию, выводящую метрики для линейной регрессии - Mean Squared Error и Root Mean Square Error."
   ]
  },
  {
   "cell_type": "code",
   "execution_count": 2112,
   "metadata": {},
   "outputs": [],
   "source": [
    "def print_regression_metrics(y_true, y_pred): # вывод метрик регрессии\n",
    "    mse = mean_squared_error(y_true, y_pred)\n",
    "    rmse = np.sqrt(mse)\n",
    "    print(f'MSE = {mse:.2f}, RMSE = {rmse:.2f}')"
   ]
  },
  {
   "cell_type": "markdown",
   "metadata": {},
   "source": [
    "Наконец, разделим данные на тестовые и тренировочные, и обучим модель."
   ]
  },
  {
   "cell_type": "code",
   "execution_count": 2113,
   "metadata": {},
   "outputs": [],
   "source": [
    "X = df.drop(columns = ['score'], axis=1).values\n",
    "y = df['score'].values\n",
    "X_train, X_test, y_train, y_test = train_test_split(X, y, test_size=0.2, random_state=50)\n",
    "# нормализация с помощью статистических методов, устойчивых к выбросам\n",
    "scaler = RobustScaler()\n",
    "# нормализуем отдельно тестовую и обучающую выборку\n",
    "X_train = scaler.fit_transform(X_train)\n",
    "X_test  = scaler.transform(X_test)\n",
    "lr = LinearRegression() \n",
    "lr.fit(X_train,y_train)\n",
    "y_pred = lr.predict(X_test)"
   ]
  },
  {
   "cell_type": "code",
   "execution_count": 2114,
   "metadata": {},
   "outputs": [
    {
     "name": "stdout",
     "output_type": "stream",
     "text": [
      "MSE = 574.88, RMSE = 23.98\n"
     ]
    }
   ],
   "source": [
    "print_regression_metrics(y_test,y_pred)"
   ]
  },
  {
   "cell_type": "markdown",
   "metadata": {},
   "source": [
    "RMSE можно интерпретировать как отклонение примерно в 24 балла, что довольно много для 100-балльной шкалы. Возможно, для улучшения модели необходимо добавить какие-либо нелинейности из комбинации признаков, или посмотреть влияние добавления\\удаления признаков из модели на RMSE."
   ]
  }
 ],
 "metadata": {
  "kernelspec": {
   "display_name": "Python 3",
   "language": "python",
   "name": "python3"
  },
  "language_info": {
   "codemirror_mode": {
    "name": "ipython",
    "version": 3
   },
   "file_extension": ".py",
   "mimetype": "text/x-python",
   "name": "python",
   "nbconvert_exporter": "python",
   "pygments_lexer": "ipython3",
   "version": "3.7.4"
  }
 },
 "nbformat": 4,
 "nbformat_minor": 2
}
