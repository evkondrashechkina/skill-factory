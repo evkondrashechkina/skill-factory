{
 "cells": [
  {
   "cell_type": "markdown",
   "metadata": {},
   "source": [
    "## Цели проекта"
   ]
  },
  {
   "cell_type": "markdown",
   "metadata": {},
   "source": [
    "Необходимо создать игру, которая угадывает число, заданное пользователем, за минимальное число попыток. Необходимо, используя материалы модуля, оптимизировать алгоритм по угадыванию числа."
   ]
  },
  {
   "cell_type": "code",
   "execution_count": 2,
   "metadata": {},
   "outputs": [],
   "source": [
    "import numpy as np\n",
    "# в пределах какого числа угадываем, по заданию проекта это 100\n",
    "N = 100"
   ]
  },
  {
   "cell_type": "code",
   "execution_count": 3,
   "metadata": {},
   "outputs": [],
   "source": [
    "def score_game(game_core):\n",
    "    '''Запускаем игру 1000 раз, чтобы узнать, как быстро игра угадывает число'''\n",
    "    count_ls = []\n",
    "    # фиксируем RANDOM SEED, чтобы эксперимент был воспроизводим\n",
    "    np.random.seed(1)\n",
    "    random_array = np.random.randint(1, N+1, size=(1000))\n",
    "    for number in random_array:\n",
    "        count_ls.append(game_core(number)[0])\n",
    "    score = int(np.mean(count_ls))\n",
    "    print(f\"Ваш алгоритм угадывает число в среднем за {score} попыток\")\n",
    "    return(score)"
   ]
  },
  {
   "cell_type": "code",
   "execution_count": 4,
   "metadata": {},
   "outputs": [],
   "source": [
    "# Первая версия ядра игры из материала модуля\n",
    "def game_core_v1(number):\n",
    "    '''Просто угадываем на random, никак не используя информацию о больше или меньше.\n",
    "       Функция принимает загаданное число и возвращает число попыток\n",
    "\n",
    "    '''\n",
    "    count = 0\n",
    "    while True:\n",
    "        count += 1\n",
    "        predict = np.random.randint(1, N+1)  # Предполагаемое число\n",
    "        if number == predict:\n",
    "            return(count, predict)  # Выход из цикла, если угадали"
   ]
  },
  {
   "cell_type": "code",
   "execution_count": 5,
   "metadata": {},
   "outputs": [],
   "source": [
    "# Последняя версия ядра игры из материала модуля\n",
    "def game_core_v2(number):\n",
    "    '''Сначала устанавливаем любое random число, а потом уменьшаем или увеличиваем его \n",
    "       в зависимости от того, больше оно или меньше нужного.\n",
    "       Функция принимает загаданное число и возвращает число попыток\n",
    "\n",
    "    '''\n",
    "    count = 1\n",
    "    predict = np.random.randint(1, N+1)\n",
    "    while number != predict:\n",
    "        count += 1\n",
    "        if number > predict:\n",
    "            predict += 1\n",
    "        elif number < predict:\n",
    "            predict -= 1\n",
    "    return(count, predict)  # Выход из цикла, если угадали"
   ]
  },
  {
   "cell_type": "code",
   "execution_count": 6,
   "metadata": {},
   "outputs": [],
   "source": [
    "# Улучшенная версия ядра игры\n",
    "def game_core_v3(number):\n",
    "    '''Функция берет в качестве первого числа середину от верхней границы.\n",
    "    С каждым шагом нужная половина последовательности делится на 2 и ищем значение в нужной половине.\n",
    "\n",
    "    '''\n",
    "    count = 1\n",
    "    predict = N // 2\n",
    "    step = N // 2  # Шаг, на который мы уменьшаем или увеличиваем наше число\n",
    "    while number != predict:\n",
    "        if step % 2 == 0:\n",
    "            step = step // 2\n",
    "        else:\n",
    "            # Компенсация границы (иначе на некоторых числах зацикливание из-за шага 0)\n",
    "            step = step // 2 + 1\n",
    "        count += 1\n",
    "        if number > predict:\n",
    "            predict += step\n",
    "        elif number < predict:\n",
    "            predict -= step\n",
    "    return(count, predict)  # Выход из цикла, если угадали"
   ]
  },
  {
   "cell_type": "code",
   "execution_count": 7,
   "metadata": {},
   "outputs": [
    {
     "name": "stdout",
     "output_type": "stream",
     "text": [
      "Диапазон чисел от 1 до 100\n",
      "Было корректно угадано 100 чисел из 100\n"
     ]
    }
   ],
   "source": [
    "# Проверим, все ли числа от 1 до заданного диапазона алгоритм угадывает\n",
    "game_test = []\n",
    "for i in range(1, N+1):\n",
    "    # Записываем True, если предсказанное и настоящее число - совпадают\n",
    "    game_test.append(game_core_v3(i)[1] == i)\n",
    "\n",
    "print('Диапазон чисел от 1 до {}'.format(N))\n",
    "print('Было корректно угадано {} чисел из {}'.format(game_test.count(True), N))"
   ]
  },
  {
   "cell_type": "code",
   "execution_count": 8,
   "metadata": {},
   "outputs": [
    {
     "name": "stdout",
     "output_type": "stream",
     "text": [
      "Ваш алгоритм угадывает число в среднем за 5 попыток\n"
     ]
    },
    {
     "data": {
      "text/plain": [
       "5"
      ]
     },
     "execution_count": 8,
     "metadata": {},
     "output_type": "execute_result"
    }
   ],
   "source": [
    "# Проверяем среднее количество попыток\n",
    "score_game(game_core_v3)"
   ]
  }
 ],
 "metadata": {
  "kernelspec": {
   "display_name": "Python 3",
   "language": "python",
   "name": "python3"
  },
  "language_info": {
   "codemirror_mode": {
    "name": "ipython",
    "version": 3
   },
   "file_extension": ".py",
   "mimetype": "text/x-python",
   "name": "python",
   "nbconvert_exporter": "python",
   "pygments_lexer": "ipython3",
   "version": "3.7.4"
  }
 },
 "nbformat": 4,
 "nbformat_minor": 2
}
