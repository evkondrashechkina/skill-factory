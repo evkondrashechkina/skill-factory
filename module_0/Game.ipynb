{
 "cells": [
  {
   "cell_type": "code",
   "execution_count": 36,
   "metadata": {},
   "outputs": [],
   "source": [
    "import numpy as np\n",
    "N = 100"
   ]
  },
  {
   "cell_type": "code",
   "execution_count": 78,
   "metadata": {},
   "outputs": [],
   "source": [
    "def score_game(game_core):\n",
    "    '''Запускаем игру 1000 раз, чтобы узнать, как быстро игра угадывает число'''\n",
    "    count_ls = []\n",
    "    np.random.seed(1)  # фиксируем RANDOM SEED, чтобы эксперимент был воспроизводим\n",
    "    random_array = np.random.randint(1,N+1, size=(1000))\n",
    "    for number in random_array:\n",
    "        count_ls.append(game_core(number)[0])\n",
    "    score = int(np.mean(count_ls))\n",
    "    print(f\"Ваш алгоритм угадывает число в среднем за {score} попыток\")\n",
    "    return(score)"
   ]
  },
  {
   "cell_type": "code",
   "execution_count": 77,
   "metadata": {},
   "outputs": [],
   "source": [
    "# Первая версия ядра игры из материала модуля\n",
    "def game_core_v1(number):\n",
    "    '''Просто угадываем на random, никак не используя информацию о больше или меньше.\n",
    "       Функция принимает загаданное число и возвращает число попыток\n",
    "       \n",
    "    '''\n",
    "    count = 0\n",
    "    while True:\n",
    "        count += 1\n",
    "        predict = np.random.randint(1,N+1) # Предполагаемое число\n",
    "        if number == predict: \n",
    "            return(count,predict) # Выход из цикла, если угадали"
   ]
  },
  {
   "cell_type": "code",
   "execution_count": 76,
   "metadata": {},
   "outputs": [],
   "source": [
    "# Последняя версия ядра игры из материала модуля\n",
    "def game_core_v2(number):\n",
    "    '''Сначала устанавливаем любое random число, а потом уменьшаем или увеличиваем его \n",
    "       в зависимости от того, больше оно или меньше нужного.\n",
    "       Функция принимает загаданное число и возвращает число попыток\n",
    "       \n",
    "    '''\n",
    "    count = 1\n",
    "    predict = np.random.randint(1,N+1)\n",
    "    while number != predict:\n",
    "        count += 1\n",
    "        if number > predict: \n",
    "            predict += 1\n",
    "        elif number < predict: \n",
    "            predict -= 1\n",
    "    return(count,predict) # Выход из цикла, если угадали"
   ]
  },
  {
   "cell_type": "code",
   "execution_count": 80,
   "metadata": {},
   "outputs": [],
   "source": [
    "# Улучшеная версия ядра игры\n",
    "def game_core_v3(number):\n",
    "    '''Функция берет в качестве первого числа середину от верхней границы.\n",
    "    С каждым шагом нужная половина последовательности делится на 2 и ищем значение в нужной половине.\n",
    "    \n",
    "    '''\n",
    "    count = 1\n",
    "    predict = N // 2\n",
    "    step = N // 2 # Шаг, на который мы уменьшаем или увеличиваем наше число\n",
    "    while number != predict:\n",
    "        if step % 2 == 0: \n",
    "            step = step // 2\n",
    "        else:\n",
    "            step = step // 2 + 1 # Компенсация границы (иначе на некоторых числах зацикливание из-за шага 0)\n",
    "        count += 1\n",
    "        if number > predict: \n",
    "            predict += step\n",
    "        elif number < predict: \n",
    "            predict -= step\n",
    "    return(count,predict) # Выход из цикла, если угадали"
   ]
  },
  {
   "cell_type": "code",
   "execution_count": 83,
   "metadata": {},
   "outputs": [
    {
     "name": "stdout",
     "output_type": "stream",
     "text": [
      "100\n",
      "100\n"
     ]
    }
   ],
   "source": [
    "# Проверим, все ли числа от 1 до заданного диапазона алгоритм угадывает\n",
    "game_test = []\n",
    "for i in range(1,N+1):\n",
    "    game_test.append(game_core_v3(i)[1] == i) # Записываем True, если предсказанное и настоящее число - совпадают\n",
    "\n",
    "print(N)\n",
    "print(game_test.count(True))"
   ]
  },
  {
   "cell_type": "code",
   "execution_count": 84,
   "metadata": {},
   "outputs": [
    {
     "name": "stdout",
     "output_type": "stream",
     "text": [
      "Ваш алгоритм угадывает число в среднем за 5 попыток\n"
     ]
    },
    {
     "data": {
      "text/plain": [
       "5"
      ]
     },
     "execution_count": 84,
     "metadata": {},
     "output_type": "execute_result"
    }
   ],
   "source": [
    "# Проверяем\n",
    "score_game(game_core_v3)"
   ]
  }
 ],
 "metadata": {
  "kernelspec": {
   "display_name": "Python 3",
   "language": "python",
   "name": "python3"
  },
  "language_info": {
   "codemirror_mode": {
    "name": "ipython",
    "version": 3
   },
   "file_extension": ".py",
   "mimetype": "text/x-python",
   "name": "python",
   "nbconvert_exporter": "python",
   "pygments_lexer": "ipython3",
   "version": "3.7.4"
  }
 },
 "nbformat": 4,
 "nbformat_minor": 2
}
